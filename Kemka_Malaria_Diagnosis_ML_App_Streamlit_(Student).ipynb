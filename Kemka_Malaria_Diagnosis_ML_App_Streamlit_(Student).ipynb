{
  "nbformat": 4,
  "nbformat_minor": 0,
  "metadata": {
    "colab": {
      "name": "Copy of Malaria Diagnosis ML App - Streamlit (Student).ipynb",
      "provenance": [],
      "collapsed_sections": [],
      "include_colab_link": true
    },
    "kernelspec": {
      "display_name": "Python 3",
      "name": "python3"
    }
  },
  "cells": [
    {
      "cell_type": "markdown",
      "metadata": {
        "id": "view-in-github",
        "colab_type": "text"
      },
      "source": [
        "<a href=\"https://colab.research.google.com/github/itsskem/Inspirit-AI-Program/blob/main/Kemka_Malaria_Diagnosis_ML_App_Streamlit_(Student).ipynb\" target=\"_parent\"><img src=\"https://colab.research.google.com/assets/colab-badge.svg\" alt=\"Open In Colab\"/></a>"
      ]
    },
    {
      "cell_type": "markdown",
      "metadata": {
        "id": "qg6EWaEmhAVE"
      },
      "source": [
        "# Developing Machine Learning Apps for Healthcare"
      ]
    },
    {
      "cell_type": "code",
      "metadata": {
        "colab": {
          "background_save": true,
          "base_uri": "https://localhost:8080/"
        },
        "id": "NL7dsgzbihZP",
        "outputId": "518dc8eb-ad9b-4b2c-9f25-463a7469b7a1"
      },
      "source": [
        "#@title Run this to prepare our libraries and data! { display-mode: \"form\" } \n",
        "\n",
        "# networking\n",
        "!pip -q install pyngrok\n",
        "\n",
        "from pyngrok import ngrok\n",
        "\n",
        "from __future__ import print_function\n",
        "import json\n",
        "import cv2\n",
        "\n",
        "!pip install patool\n",
        "import patoolib\n",
        "import os\n",
        "import gdown\n",
        "\n",
        "import random\n",
        "\n",
        "import codecs\n",
        "import base64\n",
        "\n",
        "import time\n",
        "from multiprocessing import Pool\n",
        "\n",
        "import glob\n",
        "import numpy as np\n",
        "from tqdm import tqdm\n",
        "from google.colab.patches import cv2_imshow\n",
        "\n",
        "import pandas as pd\n",
        "import matplotlib.pyplot as plt\n",
        "import matplotlib\n",
        "\n",
        "!pip3 install psutil\n",
        "import psutil\n",
        "\n",
        "from sklearn.metrics import accuracy_score\n",
        "from joblib import dump, load\n",
        "\n",
        "!pip -q install streamlit\n",
        "!pip -q install pyngrok\n",
        "\n",
        "from pyngrok import ngrok\n",
        "\n",
        "#ML\n",
        "from sklearn.decomposition import PCA\n",
        "from sklearn.model_selection import train_test_split\n",
        "from sklearn.neighbors import KNeighborsClassifier\n",
        "from sklearn.svm import SVC\n",
        "\n",
        "from sklearn.cluster import KMeans\n",
        "\n",
        "import keras\n",
        "from keras import backend as K\n",
        "from tensorflow.keras.layers import *\n",
        "from keras.models import Sequential\n",
        "from keras.layers import Dense, Conv2D\n",
        "from keras.layers import Activation, MaxPooling2D, Dropout, Flatten, Reshape\n",
        "from keras.wrappers.scikit_learn import KerasClassifier\n",
        "\n",
        "import tensorflow as tf\n",
        "\n",
        "DATA_ROOT = '/content/data'\n",
        "os.makedirs(DATA_ROOT, exist_ok=True)\n",
        "max_samples = 3000\n",
        "\n",
        "blood_slide_url = 'https://drive.google.com/uc?id=1lffxAG8gykh1dh1pCP34uRkH3XMwuNt-'\n",
        "blood_slide_path = os.path.join(DATA_ROOT, 'blood_slide.jpg')\n",
        "gdown.download(blood_slide_url, blood_slide_path, True)\n",
        "\n",
        "malaria_imgs_url = 'https://drive.google.com/uc?id=12cmn17NPhhxkw8wWxIACnxRuvXpiQWnr'\n",
        "malaria_imgs_path = os.path.join(DATA_ROOT, 'malaria_imgs.zip')\n",
        "gdown.download(malaria_imgs_url, malaria_imgs_path, True)\n",
        "\n",
        "if os.path.exists(os.path.join(DATA_ROOT, 'malaria_images')) == False:\n",
        "  patoolib.extract_archive(os.path.join(DATA_ROOT, 'malaria_imgs.zip'), outdir=DATA_ROOT)\n",
        "\n",
        "print(\"Downloaded Data\")\n",
        "\n",
        "u_malaria_img_paths = glob.glob('/content/data/malaria_images/Uninfected/*png')\n",
        "p_malaria_img_paths = glob.glob('/content/data/malaria_images/Parasitized/*png')\n",
        "\n",
        "NUM_SAMPLES = len(u_malaria_img_paths) + len(p_malaria_img_paths)\n",
        "\n",
        "X_img = []\n",
        "y_img = []\n",
        "\n",
        "X_g_img = []\n",
        "\n",
        "for i in tqdm(range(max_samples)):\n",
        "  img = cv2.imread(u_malaria_img_paths[i])\n",
        "  X_img.append(cv2.resize(img,(50,50)))\n",
        "\n",
        "  gray_img = cv2.imread(u_malaria_img_paths[i],0)\n",
        "  X_g_img.append(cv2.resize(gray_img,(50,50)))\n",
        "\n",
        "  y_img.append(0)\n",
        "\n",
        "for i in tqdm(range(max_samples)):\n",
        "  img = cv2.imread(p_malaria_img_paths[i])\n",
        "  X_img.append(cv2.resize(img,(50,50)))\n",
        "\n",
        "  gray_img = cv2.imread(p_malaria_img_paths[i],0)\n",
        "  X_g_img.append(cv2.resize(gray_img,(50,50)))\n",
        "\n",
        "  y_img.append(1)\n",
        "\n",
        "X_img = np.stack(X_img)\n",
        "X_g_img = np.stack(X_g_img)\n",
        "\n",
        "y_img = np.array(y_img)\n",
        "\n",
        "blood_samples_dir = 'blood_samples'\n",
        "if (os.path.exists(blood_samples_dir) == False):\n",
        "  os.mkdir(blood_samples_dir)\n",
        "\n",
        "for i, img in enumerate(X_img[2995:3005]):\n",
        "  plt.imsave('test_img_{}.jpg'.format(i), img)\n",
        "  \n",
        "print(\"Created our X and y variables\")\n"
      ],
      "execution_count": null,
      "outputs": [
        {
          "name": "stdout",
          "output_type": "stream",
          "text": [
            "\u001b[K     |████████████████████████████████| 745 kB 4.1 MB/s \n",
            "\u001b[?25h  Building wheel for pyngrok (setup.py) ... \u001b[?25l\u001b[?25hdone\n",
            "Collecting patool\n",
            "  Downloading patool-1.12-py2.py3-none-any.whl (77 kB)\n",
            "\u001b[K     |████████████████████████████████| 77 kB 2.9 MB/s \n",
            "\u001b[?25hInstalling collected packages: patool\n",
            "Successfully installed patool-1.12\n",
            "Requirement already satisfied: psutil in /usr/local/lib/python3.7/dist-packages (5.4.8)\n",
            "\u001b[K     |████████████████████████████████| 8.0 MB 4.2 MB/s \n",
            "\u001b[K     |████████████████████████████████| 4.3 MB 42.7 MB/s \n",
            "\u001b[K     |████████████████████████████████| 75 kB 3.6 MB/s \n",
            "\u001b[K     |████████████████████████████████| 170 kB 59.5 MB/s \n",
            "\u001b[K     |████████████████████████████████| 111 kB 58.2 MB/s \n",
            "\u001b[K     |████████████████████████████████| 63 kB 1.5 MB/s \n",
            "\u001b[K     |████████████████████████████████| 123 kB 57.2 MB/s \n",
            "\u001b[K     |████████████████████████████████| 787 kB 71.0 MB/s \n",
            "\u001b[K     |████████████████████████████████| 370 kB 61.1 MB/s \n",
            "\u001b[?25h  Building wheel for blinker (setup.py) ... \u001b[?25l\u001b[?25hdone\n",
            "\u001b[31mERROR: pip's dependency resolver does not currently take into account all the packages that are installed. This behaviour is the source of the following dependency conflicts.\n",
            "jupyter-console 5.2.0 requires prompt-toolkit<2.0.0,>=1.0.0, but you have prompt-toolkit 3.0.20 which is incompatible.\n",
            "google-colab 1.0.0 requires ipykernel~=4.10, but you have ipykernel 6.3.1 which is incompatible.\n",
            "google-colab 1.0.0 requires ipython~=5.5.0, but you have ipython 7.27.0 which is incompatible.\u001b[0m\n",
            "patool: Extracting /content/data/malaria_imgs.zip ...\n",
            "patool: running /usr/bin/7z x -o/content/data -- /content/data/malaria_imgs.zip\n",
            "patool: ... /content/data/malaria_imgs.zip extracted to `/content/data'.\n",
            "Downloaded Data\n"
          ]
        },
        {
          "name": "stderr",
          "output_type": "stream",
          "text": [
            "100%|██████████| 3000/3000 [00:03<00:00, 882.03it/s]\n",
            "100%|██████████| 3000/3000 [00:03<00:00, 835.27it/s]\n"
          ]
        },
        {
          "name": "stdout",
          "output_type": "stream",
          "text": [
            "Created our X and y variables\n"
          ]
        }
      ]
    },
    {
      "cell_type": "markdown",
      "metadata": {
        "id": "SS5UHQLMcHIG"
      },
      "source": [
        "In this notebook, we'll build a machine learning model to diagnose malaria and deploy our model to a mobile-friendly web app. \n",
        "\n",
        "**Discuss: Why is it important to deploy AI models to apps, especially in healthcare? Who could benefit?**\n",
        "\n",
        "One huge benefit is that machine learning apps can quickly and cheaply screen people for diseases! Check out a few examples:\n",
        "*  [Detecting early Parkinson's disease](https://parkinsonsnewstoday.com/2019/01/15/smartphone-app-identifies-early-symptoms-motor-disorders-study/) by analyzing finger-tapping\n",
        "*  [Recognizing asymptomatic COVID-19](https://news.mit.edu/2020/covid-19-cough-cellphone-detection-1029) based on particular cough sounds\n",
        "*  (Developed by a high-schooler!) [Screening for eye disease with computer vision](https://www.youtube.com/watch?v=kLx4ey4d8DQ) in parts of the world where there aren't enough doctors \n",
        "\n",
        "Because billions of people worldwide have smartphones, ML apps have the potential to get huge numbers of people diagnosed and treated!\n",
        "\n",
        "Today, we'll build an app to help fight one of the world's most terrible diseases: malaria, which every year infects over 200 million people and kills more than 200,000 children. Our goal is to help healthcare workers in rural or developing areas diagnose malaria without expensive lab equipment. Our app will let a healthcare worker upload an image of blood cells under a microscope, and then use computer vision to detect the malaria parasite.\n",
        "\n",
        "![](https://cdn1.sph.harvard.edu/wp-content/uploads/sites/21/2018/01/parasite.jpg)\n",
        "\n",
        "**Discuss: What are the parts of the app that we'll need to build?**\n",
        "\n",
        "We'll split our work into three parts:\n",
        "*   Back-end: building a machine learning model to classify an image of blood cells \n",
        "*   Front end: making an easy-to-use, mobile-friendly website that lets users upload an image and outputs the answer\n",
        "*   Connecting the front-end and back-end so the model can analyze the user's image"
      ]
    },
    {
      "cell_type": "markdown",
      "metadata": {
        "id": "azJvdunDdKA-"
      },
      "source": [
        "# Part 1: Malaria Diagnosis"
      ]
    },
    {
      "cell_type": "markdown",
      "metadata": {
        "id": "OgslBWwuZMKK"
      },
      "source": [
        "Let's construct a machine learning model to diagnose malaria!\n",
        "\n",
        "To start off, **take a look at our data**, which is stored in the `X_img` and `y_img` variables. (Hint: use `plt.imshow` if you want to see an image.) Can you spot evidence of malaria?\n",
        "\n"
      ]
    },
    {
      "cell_type": "code",
      "metadata": {
        "colab": {
          "base_uri": "https://localhost:8080/",
          "height": 301
        },
        "id": "YGeNPQT4bXYi",
        "outputId": "4552765a-18a6-4c89-c0e6-d8b42390caab"
      },
      "source": [
        "# YOUR CODE HERE\n",
        "print(X_img.shape)\n",
        "print(y_img.shape)\n",
        "img_num = 500\n",
        "img = X_img[img_num]\n",
        "plt.imshow(img) \n",
        "plt.show()\n"
      ],
      "execution_count": null,
      "outputs": [
        {
          "output_type": "stream",
          "name": "stdout",
          "text": [
            "(6000, 50, 50, 3)\n",
            "(6000,)\n"
          ]
        },
        {
          "output_type": "display_data",
          "data": {
            "image/png": "[encoded data removed]",
            "text/plain": [
              "<Figure size 432x288 with 1 Axes>"
            ]
          },
          "metadata": {
            "needs_background": "light"
          }
        }
      ]
    },
    {
      "cell_type": "markdown",
      "metadata": {
        "id": "o3VaSbQScBrj"
      },
      "source": [
        "**Optional:** Let's try to visualize our entire dataset. It's tricky with high-dimensional data, but we can use a mathematical technique called Principal Component Analysis (PCA) to visualize it in 2D. \n",
        "\n",
        "**Discuss: What do you notice here? Does it look like it'll be easy to distinguish positive and negative examples?**"
      ]
    },
    {
      "cell_type": "code",
      "metadata": {
        "colab": {
          "base_uri": "https://localhost:8080/",
          "height": 281
        },
        "id": "3GhMi6wi07G3",
        "outputId": "29513696-cc13-4d2b-b165-4029293684c2"
      },
      "source": [
        "#@title Run this to perform and visualize PCA! { display-mode: \"form\" } \n",
        "pca = PCA(n_components=20)\n",
        "\n",
        "X_img_reshaped = np.reshape(X_g_img,(X_g_img.shape[0],2500))\n",
        "X_img_pca = pca.fit_transform(X_img_reshaped)\n",
        "\n",
        "colors = [\"green\",\"brown\"] # try editing the colors!\n",
        "classes = [0,1]\n",
        "\n",
        "plt.scatter(X_img_pca[:,0], X_img_pca[:,1], c=y_img, cmap=matplotlib.colors.ListedColormap(colors))\n",
        "cb = plt.colorbar()\n",
        "loc = np.arange(0,max(y_img),max(y_img)/float(len(colors)))\n",
        "cb.set_ticks(loc)\n",
        "cb.set_ticklabels(classes)\n",
        "plt.title(\"PCA Representation\")\n",
        "plt.show()"
      ],
      "execution_count": null,
      "outputs": [
        {
          "output_type": "display_data",
          "data": {
            "image/png": "[encoded data removed]",
            "text/plain": [
              "<Figure size 432x288 with 2 Axes>"
            ]
          },
          "metadata": {
            "needs_background": "light"
          }
        }
      ]
    },
    {
      "cell_type": "markdown",
      "metadata": {
        "id": "T9_Om7RH0s9k"
      },
      "source": [
        "#Training Our Model\n",
        "\n",
        "Fingers crossed - let's train our ML model! To start simple, we'll use Scikit-learn. Of course, we could also try a CNN for this task in Keras!\n",
        "\n",
        "Please:\n",
        "\n",
        "\n",
        "*   Use `X_img_reshaped`, a flattened array that we can use in Scikit-learn\n",
        "*   Perform a `train_test_split`\n",
        "*   Train an `SVC` model (a Support Vector Machine classifier: this is a common though mathematically tricky algorithm.)\n",
        "*   `score` the model to find our accuracy!\n",
        "\n"
      ]
    },
    {
      "cell_type": "code",
      "metadata": {
        "colab": {
          "base_uri": "https://localhost:8080/"
        },
        "id": "qaRo2Tj_U0HA",
        "outputId": "f3138c65-ce83-40f8-9b8c-ee5bff63ce39"
      },
      "source": [
        "model = SVC()\n",
        "X_train, X_test, y_train, y_test = train_test_split(X_img_reshaped, y_img, test_size = 0.33, random_state = 4)\n",
        "model.fit(X_train.astype(np.float32), y_train.astype(np.float32))\n",
        "print()\n",
        "print(model.score(X_test, y_test))"
      ],
      "execution_count": null,
      "outputs": [
        {
          "output_type": "stream",
          "name": "stdout",
          "text": [
            "\n",
            "0.6924242424242424\n"
          ]
        }
      ]
    },
    {
      "cell_type": "markdown",
      "metadata": {
        "id": "iMWmeIwEC_Dt"
      },
      "source": [
        "Nice - we've developed a machine learning method for identifying parasitized blood cells to help diagnose malaria! Of course, you can always come back later to make your model more accurate.\n",
        "\n",
        "For now, let's save our model to a file so we can use it in an app."
      ]
    },
    {
      "cell_type": "code",
      "metadata": {
        "colab": {
          "base_uri": "https://localhost:8080/"
        },
        "id": "7-Zo8TvoiEEx",
        "outputId": "56c7cbc0-065b-42c7-b0bb-a445102371b1"
      },
      "source": [
        "dump(model, \"model.joblib\")"
      ],
      "execution_count": null,
      "outputs": [
        {
          "output_type": "execute_result",
          "data": {
            "text/plain": [
              "['model.joblib']"
            ]
          },
          "metadata": {},
          "execution_count": 6
        }
      ]
    },
    {
      "cell_type": "markdown",
      "metadata": {
        "id": "krAg7NuZdLx7"
      },
      "source": [
        "# Part 2: Creating a Healthcare App User Interface\n",
        "\n",
        "Now, let's make a user interface for our malaria diagnosis app.\n",
        "\n",
        "**Discuss: What elements should our web app include to be effective and easy to use?**\n",
        "\n",
        "We'll build our app using [Streamlit](https://www.streamlit.io/), a new Python package designed for quickly building machine-learning web apps. This means we'll be able to write all our code right here in Colab - much trickier to do with classic web design tools like HTML and JavaScript!\n",
        "\n",
        "We'll use a nifty Colab command, `%%writefile`, to write code directly to a Python file: `app.py`. To start with, let's create a super-basic web app with just a title."
      ]
    },
    {
      "cell_type": "code",
      "metadata": {
        "colab": {
          "base_uri": "https://localhost:8080/"
        },
        "id": "Lr-Lawiw69sV",
        "outputId": "1da705b9-1fb5-4adb-9936-e9bfe8136b8c"
      },
      "source": [
        "%%writefile app.py\n",
        "import streamlit as st\n",
        "from joblib import dump, load\n",
        "import cv2\n",
        "import numpy as np\n",
        "import pandas as pd\n",
        "from sklearn.svm import SVC\n",
        "\n",
        "model = load(\"model.joblib\" ) # loading up our saved model\n",
        "\n",
        "st.title('Malaria Diagnosis Website.') \n",
        "st.header('This is a website to help you see if you have malaria')\n",
        "\n",
        "image = st.file_uploader(\"Upload Image\")\n",
        "if image is not None:\n",
        "  read = np.asarray(bytearray(image.read()), dtype = np.uint8)\n",
        "  im_read = cv2.imdecode(read, 1)\n",
        "\n",
        "#resize and grayscaling\n",
        "  small = cv2.resize(im_read, (50, 50)) \n",
        "  gray = cv2.cvtColor(small, cv2.COLOR_BGR2GRAY)\n",
        "\n",
        "  new_gray = np.reshape(gray, (1, 2500))\n",
        "  pred_model = model.predict(new_gray)[0]\n",
        "\n",
        "  #actual prediction\n",
        "  if pred_model == 1:\n",
        "    st.write(\"Uh, oh. You have malaria\")\n",
        "  else:\n",
        "    st.write(\"Good. No Malaria :)\")"
      ],
      "execution_count": null,
      "outputs": [
        {
          "output_type": "stream",
          "name": "stdout",
          "text": [
            "Writing app.py\n"
          ]
        }
      ]
    },
    {
      "cell_type": "markdown",
      "metadata": {
        "id": "_V9g_onD7jG_"
      },
      "source": [
        "Now, in three lines of code we can host our app on the Web! Run this block, then click the URL to access your webpage: it'll be accessible until you stop the code block. You can also check it out on your phone."
      ]
    },
    {
      "cell_type": "code",
      "metadata": {
        "id": "9fmWnCujgzui"
      },
      "source": [
        ""
      ],
      "execution_count": null,
      "outputs": []
    },
    {
      "cell_type": "code",
      "metadata": {
        "colab": {
          "background_save": true,
          "base_uri": "https://localhost:8080/"
        },
        "id": "I6H5NOccOHdw",
        "outputId": "e7964b8d-571d-4282-b9b6-62046cad49d8"
      },
      "source": [
        "#Publish Web App (Run this again whenever you make changes)\n",
        "public_url = ngrok.connect(port='80')\n",
        "print (public_url)\n",
        "!streamlit run --server.port 80 app.py >/dev/null"
      ],
      "execution_count": null,
      "outputs": [
        {
          "metadata": {
            "tags": null
          },
          "name": "stdout",
          "output_type": "stream",
          "text": [
            "NgrokTunnel: \"http://107d-34-80-143-211.ngrok.io\" -> \"http://localhost:80\"\n"
          ]
        }
      ]
    },
    {
      "cell_type": "code",
      "metadata": {
        "cellView": "form",
        "id": "Vf7A8LHuLrzw"
      },
      "source": [
        "#@title If you get an error above, run this to reinitialize Streamlit, then try again!\n",
        "%%writefile ~/.streamlit/config.toml\n",
        "[server]\n",
        "port = 80"
      ],
      "execution_count": null,
      "outputs": []
    },
    {
      "cell_type": "markdown",
      "metadata": {
        "id": "1o0m81aJmjwg"
      },
      "source": [
        "Now, you can customize your Streamlit user interface (UI)! \n",
        "\n",
        "Choose the elements you want from the toolbox below, then copy-paste them into the `%%writefile app.py` code above in whatever order you'd like to define your UI. Check out this [cheat sheet](https://share.streamlit.io/daniellewisdl/streamlit-cheat-sheet/app.py) for more.\n"
      ]
    },
    {
      "cell_type": "code",
      "metadata": {
        "id": "REwplcbZlCVU"
      },
      "source": [
        "#Your Streamlit Toolbox!\n",
        "\n",
        "\"\"\"\n",
        "#Write text\n",
        "st.write(\"text\")\n",
        "\n",
        "#Title\n",
        "st.title('title')\n",
        "\n",
        "#Header\n",
        "st.header('header')\n",
        "\n",
        "#Slider\n",
        "value = st.slider('variable')\n",
        "\n",
        "#Table\n",
        "st.table(dataframe) #use a Pandas DataFrame\n",
        "\n",
        "#Bar Chart (Example)\n",
        "chart_data = pd.DataFrame([[45, 0, 0], [0, 32, 0], [0, 0, 35]],\n",
        "     columns=[\"apples\", \"oranges\", \"pears\"])\n",
        "st.bar_chart(chart_data)\n",
        "\n",
        "#Matplotlib Figure\n",
        "st.pyplot(fig) #use a Matplotlib figure\n",
        "\n",
        "#Image\n",
        "st.image(image, caption='Image Caption')\n",
        "\n",
        "#Button\n",
        "pressed = st.button('Button Name')\n",
        "\n",
        "#Checkbox\n",
        "checked = st.checkbox('Checkbox Name')\n",
        "\n",
        "#File Input\n",
        "uploaded_file = st.file_uploader(\"Upload File\")\n",
        "\n",
        "if uploaded_file is not None:    \n",
        "    pass #Do something here!\n",
        "\n",
        "\"\"\""
      ],
      "execution_count": null,
      "outputs": []
    },
    {
      "cell_type": "markdown",
      "metadata": {
        "id": "UIUjtHy4pig8"
      },
      "source": [
        "Now take these Streamlit elements and design your interface for malaria diagnosis! Be sure to replace the placeholder values and variable names with your specifics in mind. \n",
        "\n",
        "Whenever you want to view your updated website, rewrite your code into `app.py` and then host your web app again."
      ]
    },
    {
      "cell_type": "markdown",
      "metadata": {
        "id": "1jIe4K0gB0q0"
      },
      "source": [
        "#Part 3: Connecting Our App and Model\n",
        "Now we've got a beautiful web app, but it can't do anything yet! Let's connect our app to our model, so that the user can upload an image of a blood slide, the model will analyze the image, and finally the app will display the diagnosis result with some text. \n"
      ]
    },
    {
      "cell_type": "markdown",
      "metadata": {
        "id": "2M9klrD3t5cr"
      },
      "source": [
        "We'll start off by writing our image processing code here in Colab. Although it won't execute here, it'll be easier to visualize the steps. Later, we'll add it to our Streamlit code.\n",
        "\n",
        "First things first: we need to check if an image has been uploaded! **What code from your Streamlit Toolbox will make sure that we only start analyzing an image once it's uploaded?**\n",
        "\n"
      ]
    },
    {
      "cell_type": "code",
      "metadata": {
        "id": "aOebrU6M_zmd"
      },
      "source": [
        "print(\"writing the code block by block\")"
      ],
      "execution_count": null,
      "outputs": []
    },
    {
      "cell_type": "code",
      "metadata": {
        "id": "yDG9HGqtqcaR"
      },
      "source": [
        "#Your Code Here\n",
        "image = st.file_uploader(\"Uploading Image\")\n",
        "if image is not None:\n",
        "  read = np.asarray(bytearray(image.read(). dtype = np.uint8))\n",
        "  im_read = cv2.imvecode(read, 1)"
      ],
      "execution_count": null,
      "outputs": []
    },
    {
      "cell_type": "markdown",
      "metadata": {
        "id": "tZefh1W8qa3D"
      },
      "source": [
        "Once we get an image, we'll convert it to a Numpy array like this:"
      ]
    },
    {
      "cell_type": "code",
      "metadata": {
        "id": "R5OByyvawCl4"
      },
      "source": [
        "#Remember, this won't run here!\n",
        "file_bytes = np.asarray(bytearray(uploaded_file.read()), dtype=np.uint8)\n",
        "image = cv2.imdecode(file_bytes, 1)"
      ],
      "execution_count": null,
      "outputs": []
    },
    {
      "cell_type": "markdown",
      "metadata": {
        "id": "HAJsAEtjwXzQ"
      },
      "source": [
        "Next, we'll convert `image` into a 50 x 50 grayscale image: we'll convert it to grayscale and then to the new dimensions. Please complete the code:\n"
      ]
    },
    {
      "cell_type": "code",
      "metadata": {
        "id": "9umNH5sVwyOY"
      },
      "source": [
        "small = cv2.resize() #YOUR CODE HERE: specify image, dimensions\n",
        "gray = cv2.cvtColor(small, cv2.COLOR_BGR2GRAY)"
      ],
      "execution_count": null,
      "outputs": []
    },
    {
      "cell_type": "markdown",
      "metadata": {
        "id": "lWOvbWyzwy5f"
      },
      "source": [
        "Next up, you'll use the `np.reshape()` function to flatten our image into a 1x2500 array and `model.predict()` to classify it."
      ]
    },
    {
      "cell_type": "code",
      "metadata": {
        "id": "49jpffXKpsqw"
      },
      "source": [
        "#Your Code Here\n",
        "new_gray = np.reshape(gray, (1, 2500))\n",
        "pred_model = model.predict(new_gray)[0]"
      ],
      "execution_count": null,
      "outputs": []
    },
    {
      "cell_type": "markdown",
      "metadata": {
        "id": "zEqtKFPtxICo"
      },
      "source": [
        "Based on the predicted output, you'll write a message to the user to tell them their results! You can write text with  `st.write()`."
      ]
    },
    {
      "cell_type": "code",
      "metadata": {
        "id": "AvDCHUA7qK2v"
      },
      "source": [
        "#Your Code Here\n",
        "if pred_model == 1:\n",
        "  st.write(\"Uh, oh. You have malaria\")\n",
        "else:\n",
        "  st.write(\"Good. No Malaria :)\")"
      ],
      "execution_count": null,
      "outputs": []
    },
    {
      "cell_type": "markdown",
      "metadata": {
        "id": "sfVNR-NNx87A"
      },
      "source": [
        "Excellent - now we're ready! Please paste the code above into your Streamlit code in the right order, and check out your finished website!\n",
        "\n",
        "If you want images to test it out on, you can download 5 non-malaria and 5 malaria images from the Files tab on the left-hand side. "
      ]
    },
    {
      "cell_type": "markdown",
      "metadata": {
        "id": "MACrLXl-914z"
      },
      "source": [
        "#Discussion: Ethics\n",
        "Now you know how to quickly deploy an ML model, and you can share any models you build using Streamlit web apps! You can also deploy your apps permanently using solutions like Heroku.\n",
        "\n",
        "But especially in healthcare, it's not always clear that deploying a machine learning app is ethically the right thing to do. **Discuss:**\n",
        "\n",
        "\n",
        "*   How could your app help people? How could you get people to use your app?\n",
        "*   What could go wrong if your app makes mistakes, or if people use your app instead of consulting an expert?\n",
        "*   How confident must you be in your app's accuracy before you deploy it? How can you make sure your app works well for different people in different circumstances? \n",
        "*   What information should you include on your page so users can make good decisions about using your app?\n",
        "\n"
      ]
    }
  ]
}