{
  "nbformat": 4,
  "nbformat_minor": 0,
  "metadata": {
    "accelerator": "GPU",
    "colab": {
      "name": "Copy of Student Module 2a: Skin Cancer Diagnosis Notebook.ipynb",
      "provenance": [],
      "collapsed_sections": [],
      "include_colab_link": true
    },
    "kernelspec": {
      "display_name": "Python 3",
      "name": "python3"
    },
    "widgets": {
      "application/vnd.jupyter.widget-state+json": {
        "b48ce95b88e54d01898c5ee2b522d591": {
          "model_module": "@jupyter-widgets/controls",
          "model_name": "HBoxModel",
          "model_module_version": "1.5.0",
          "state": {
            "_view_name": "HBoxView",
            "_dom_classes": [],
            "_model_name": "HBoxModel",
            "_view_module": "@jupyter-widgets/controls",
            "_model_module_version": "1.5.0",
            "_view_count": null,
            "_view_module_version": "1.5.0",
            "box_style": "",
            "layout": "IPY_MODEL_b2031b6e661b4874829e1bf00085beba",
            "_model_module": "@jupyter-widgets/controls",
            "children": [
              "IPY_MODEL_1d79762cd7fb40358a82ef52cfa98558",
              "IPY_MODEL_ecc723b8bfdd4932b9434bf997b35420"
            ]
          }
        },
        "b2031b6e661b4874829e1bf00085beba": {
          "model_module": "@jupyter-widgets/base",
          "model_name": "LayoutModel",
          "model_module_version": "1.2.0",
          "state": {
            "_view_name": "LayoutView",
            "grid_template_rows": null,
            "right": null,
            "justify_content": null,
            "_view_module": "@jupyter-widgets/base",
            "overflow": null,
            "_model_module_version": "1.2.0",
            "_view_count": null,
            "flex_flow": null,
            "width": null,
            "min_width": null,
            "border": null,
            "align_items": null,
            "bottom": null,
            "_model_module": "@jupyter-widgets/base",
            "top": null,
            "grid_column": null,
            "overflow_y": null,
            "overflow_x": null,
            "grid_auto_flow": null,
            "grid_area": null,
            "grid_template_columns": null,
            "flex": null,
            "_model_name": "LayoutModel",
            "justify_items": null,
            "grid_row": null,
            "max_height": null,
            "align_content": null,
            "visibility": null,
            "align_self": null,
            "height": null,
            "min_height": null,
            "padding": null,
            "grid_auto_rows": null,
            "grid_gap": null,
            "max_width": null,
            "order": null,
            "_view_module_version": "1.2.0",
            "grid_template_areas": null,
            "object_position": null,
            "object_fit": null,
            "grid_auto_columns": null,
            "margin": null,
            "display": null,
            "left": null
          }
        },
        "1d79762cd7fb40358a82ef52cfa98558": {
          "model_module": "@jupyter-widgets/controls",
          "model_name": "FloatProgressModel",
          "model_module_version": "1.5.0",
          "state": {
            "_view_name": "ProgressView",
            "style": "IPY_MODEL_88eefd8f72a742fe9c5cfcfcfd8444b8",
            "_dom_classes": [],
            "description": "100%",
            "_model_name": "FloatProgressModel",
            "bar_style": "success",
            "max": 580,
            "_view_module": "@jupyter-widgets/controls",
            "_model_module_version": "1.5.0",
            "value": 580,
            "_view_count": null,
            "_view_module_version": "1.5.0",
            "orientation": "horizontal",
            "min": 0,
            "description_tooltip": null,
            "_model_module": "@jupyter-widgets/controls",
            "layout": "IPY_MODEL_52d9d3dcb4a44f8197cec2213b1d21ee"
          }
        },
        "ecc723b8bfdd4932b9434bf997b35420": {
          "model_module": "@jupyter-widgets/controls",
          "model_name": "HTMLModel",
          "model_module_version": "1.5.0",
          "state": {
            "_view_name": "HTMLView",
            "style": "IPY_MODEL_87bc73ff52ce4b34a309dae01f8f1c9d",
            "_dom_classes": [],
            "description": "",
            "_model_name": "HTMLModel",
            "placeholder": "​",
            "_view_module": "@jupyter-widgets/controls",
            "_model_module_version": "1.5.0",
            "value": " 580/580 [00:47&lt;00:00, 12.22it/s]",
            "_view_count": null,
            "_view_module_version": "1.5.0",
            "description_tooltip": null,
            "_model_module": "@jupyter-widgets/controls",
            "layout": "IPY_MODEL_56fa386b23294e269b0f29ff22fa84bf"
          }
        },
        "88eefd8f72a742fe9c5cfcfcfd8444b8": {
          "model_module": "@jupyter-widgets/controls",
          "model_name": "ProgressStyleModel",
          "model_module_version": "1.5.0",
          "state": {
            "_view_name": "StyleView",
            "_model_name": "ProgressStyleModel",
            "description_width": "initial",
            "_view_module": "@jupyter-widgets/base",
            "_model_module_version": "1.5.0",
            "_view_count": null,
            "_view_module_version": "1.2.0",
            "bar_color": null,
            "_model_module": "@jupyter-widgets/controls"
          }
        },
        "52d9d3dcb4a44f8197cec2213b1d21ee": {
          "model_module": "@jupyter-widgets/base",
          "model_name": "LayoutModel",
          "model_module_version": "1.2.0",
          "state": {
            "_view_name": "LayoutView",
            "grid_template_rows": null,
            "right": null,
            "justify_content": null,
            "_view_module": "@jupyter-widgets/base",
            "overflow": null,
            "_model_module_version": "1.2.0",
            "_view_count": null,
            "flex_flow": null,
            "width": null,
            "min_width": null,
            "border": null,
            "align_items": null,
            "bottom": null,
            "_model_module": "@jupyter-widgets/base",
            "top": null,
            "grid_column": null,
            "overflow_y": null,
            "overflow_x": null,
            "grid_auto_flow": null,
            "grid_area": null,
            "grid_template_columns": null,
            "flex": null,
            "_model_name": "LayoutModel",
            "justify_items": null,
            "grid_row": null,
            "max_height": null,
            "align_content": null,
            "visibility": null,
            "align_self": null,
            "height": null,
            "min_height": null,
            "padding": null,
            "grid_auto_rows": null,
            "grid_gap": null,
            "max_width": null,
            "order": null,
            "_view_module_version": "1.2.0",
            "grid_template_areas": null,
            "object_position": null,
            "object_fit": null,
            "grid_auto_columns": null,
            "margin": null,
            "display": null,
            "left": null
          }
        },
        "87bc73ff52ce4b34a309dae01f8f1c9d": {
          "model_module": "@jupyter-widgets/controls",
          "model_name": "DescriptionStyleModel",
          "model_module_version": "1.5.0",
          "state": {
            "_view_name": "StyleView",
            "_model_name": "DescriptionStyleModel",
            "description_width": "",
            "_view_module": "@jupyter-widgets/base",
            "_model_module_version": "1.5.0",
            "_view_count": null,
            "_view_module_version": "1.2.0",
            "_model_module": "@jupyter-widgets/controls"
          }
        },
        "56fa386b23294e269b0f29ff22fa84bf": {
          "model_module": "@jupyter-widgets/base",
          "model_name": "LayoutModel",
          "model_module_version": "1.2.0",
          "state": {
            "_view_name": "LayoutView",
            "grid_template_rows": null,
            "right": null,
            "justify_content": null,
            "_view_module": "@jupyter-widgets/base",
            "overflow": null,
            "_model_module_version": "1.2.0",
            "_view_count": null,
            "flex_flow": null,
            "width": null,
            "min_width": null,
            "border": null,
            "align_items": null,
            "bottom": null,
            "_model_module": "@jupyter-widgets/base",
            "top": null,
            "grid_column": null,
            "overflow_y": null,
            "overflow_x": null,
            "grid_auto_flow": null,
            "grid_area": null,
            "grid_template_columns": null,
            "flex": null,
            "_model_name": "LayoutModel",
            "justify_items": null,
            "grid_row": null,
            "max_height": null,
            "align_content": null,
            "visibility": null,
            "align_self": null,
            "height": null,
            "min_height": null,
            "padding": null,
            "grid_auto_rows": null,
            "grid_gap": null,
            "max_width": null,
            "order": null,
            "_view_module_version": "1.2.0",
            "grid_template_areas": null,
            "object_position": null,
            "object_fit": null,
            "grid_auto_columns": null,
            "margin": null,
            "display": null,
            "left": null
          }
        }
      }
    }
  },
  "cells": [
    {
      "cell_type": "markdown",
      "metadata": {
        "id": "view-in-github",
        "colab_type": "text"
      },
      "source": [
        "<a href=\"https://colab.research.google.com/github/itsskem/Inspirit-AI-Program/blob/main/Kemka_Skin_Cancer_Diagnosis_Notebook.ipynb\" target=\"_parent\"><img src=\"https://colab.research.google.com/assets/colab-badge.svg\" alt=\"Open In Colab\"/></a>"
      ]
    },
    {
      "cell_type": "markdown",
      "metadata": {
        "id": "TiM6gYg0nhkY"
      },
      "source": [
        "<font color=\"#de3023\"><h1><b>REMINDER MAKE A COPY OF THIS NOTEBOOK, DO NOT EDIT</b></h1></font>"
      ]
    },
    {
      "cell_type": "markdown",
      "metadata": {
        "id": "8qhF7Oi9c-v6"
      },
      "source": [
        " # Module 2a"
      ]
    },
    {
      "cell_type": "markdown",
      "metadata": {
        "id": "JouKR3pTBF_L"
      },
      "source": [
        "# *Online Dermatologists:* 📱 🌐 Diagnosing Skin Cancer through a Web Application "
      ]
    },
    {
      "cell_type": "markdown",
      "metadata": {
        "id": "nPnF7JnsD6II"
      },
      "source": [
        "In this project, we will be be diagnosing skin lesion images for signs of skin cancer. To perform this task, we'll be working with an array of machine learning methods and models.\n",
        "\n",
        "We're hoping that our model might be useful to people who don't have easy access to medical professionals. For that, it'll need to be both highly accurate and easily accessible! Yesterday's simple models didn't perform well enough for this job.\n",
        "\n",
        "In this notebook we'll be:\n",
        "*   Developing more complex ML models using Convolutional Neural Networks\n",
        "*   Deploying our ML models to a web app"
      ]
    },
    {
      "cell_type": "markdown",
      "metadata": {
        "id": "-ObbA3WmI798"
      },
      "source": [
        "# Set up our Environment"
      ]
    },
    {
      "cell_type": "code",
      "metadata": {
        "id": "ih8pc-WDIxbx",
        "colab": {
          "base_uri": "https://localhost:8080/"
        },
        "outputId": "4d36f802-b82d-48ae-a6cb-61d26bcf664b"
      },
      "source": [
        "#@title Run this to download data and prepare our environment! { display-mode: \"form\" }\n",
        "print(\"Installing packages...\")\n",
        "!pip install hypopt tensorflowjs > /dev/null\n",
        "print(\"Downloading files...\")\n",
        "!wget https://www.dropbox.com/s/fedqcdt4o0m2oxp/X.npy &> /dev/null\n",
        "!wget https://www.dropbox.com/s/h7xh92w1w7px30a/X_g.npy &> /dev/null\n",
        "!wget https://www.dropbox.com/s/grn9brfvzx74c8a/y.npy &> /dev/null\n",
        "print(\"Importing stuff...\")\n",
        "import os\n",
        "os.makedirs(\"static/js\", exist_ok=True)\n",
        "!wget -O static/js/skin_cancer_diagnosis_script.js 'https://storage.googleapis.com/inspirit-ai-data-bucket-1/Data/AI%20Scholars/Sessions%206%20-%2010%20(Projects)/Project%20-%20(Healthcare%20B)%20Skin%20Cancer%20Diagnosis/skin_cancer_diagnosis_script.js' &> /dev/null\n",
        "output = 'static/js/skin_cancer_diagnosis_script.js'\n",
        "\n",
        "from google.colab.output import eval_js\n",
        "\n",
        "import time\n",
        "start_time = time.time()\n",
        "\n",
        "import tensorflow as tf\n",
        "from tensorflow.keras.preprocessing.image import ImageDataGenerator\n",
        "from tqdm.notebook import tqdm\n",
        "\n",
        "import keras\n",
        "from keras import backend as K\n",
        "from tensorflow.keras.layers import *\n",
        "from keras.models import Sequential\n",
        "from keras.layers import Dense, Conv2D\n",
        "from keras.layers import Activation, MaxPooling2D, Dropout, Flatten, Reshape\n",
        "from keras.wrappers.scikit_learn import KerasClassifier\n",
        "\n",
        "import matplotlib.pyplot as plt\n",
        "import matplotlib\n",
        "import seaborn as sns\n",
        "import os\n",
        "import random\n",
        "from PIL import Image\n",
        "import gdown\n",
        "\n",
        "import argparse\n",
        "import numpy as np\n",
        "from keras.layers import Conv2D, Input, BatchNormalization, LeakyReLU, ZeroPadding2D, UpSampling2D\n",
        "from keras.layers.merge import add, concatenate\n",
        "from keras.models import Model\n",
        "import struct\n",
        "from google.colab.patches import cv2_imshow\n",
        "from copy import deepcopy\n",
        "import pandas as pd\n",
        "\n",
        "from sklearn.model_selection import train_test_split\n",
        "from sklearn.linear_model import LogisticRegression\n",
        "from sklearn.neighbors import KNeighborsClassifier\n",
        "from sklearn import tree\n",
        "from sklearn.metrics import confusion_matrix, classification_report\n",
        "from sklearn.metrics import precision_recall_curve\n",
        "from sklearn.metrics import roc_auc_score\n",
        "from sklearn.base import BaseEstimator\n",
        "\n",
        "from sklearn.neural_network import MLPClassifier\n",
        "from sklearn.neighbors import KNeighborsClassifier\n",
        "from sklearn.svm import SVC\n",
        "from sklearn.gaussian_process import GaussianProcessClassifier\n",
        "from sklearn.gaussian_process.kernels import RBF\n",
        "from sklearn.tree import DecisionTreeClassifier\n",
        "from sklearn.ensemble import RandomForestClassifier, AdaBoostClassifier\n",
        "from sklearn.naive_bayes import GaussianNB\n",
        "from sklearn.discriminant_analysis import QuadraticDiscriminantAnalysis\n",
        "\n",
        "from sklearn.metrics import make_scorer\n",
        "from sklearn.metrics import accuracy_score\n",
        "from keras.applications.mobilenet import MobileNet\n",
        "\n",
        "\n",
        "\n",
        "\n",
        "from hypopt import GridSearch\n",
        "\n",
        "from sklearn.decomposition import PCA\n",
        "from sklearn.manifold import TSNE\n",
        "\n",
        "from sklearn.cluster import KMeans\n",
        "from sklearn.cluster import AgglomerativeClustering\n",
        "\n",
        "import cv2\n",
        "\n",
        "\n",
        "import tensorflowjs as tfjs\n",
        "\n",
        "from google.colab import files\n",
        "\n",
        "import requests, io, zipfile\n",
        "import os\n",
        "\n",
        "\n",
        "\n",
        "import os.path\n",
        "from os import path\n",
        "\n",
        "\n",
        "\n",
        "\n",
        "print(\"Done!\")"
      ],
      "execution_count": null,
      "outputs": [
        {
          "output_type": "stream",
          "text": [
            "Installing packages...\n",
            "Downloading files...\n",
            "Importing stuff...\n",
            "Done!\n"
          ],
          "name": "stdout"
        }
      ]
    },
    {
      "cell_type": "code",
      "metadata": {
        "id": "ITfh4GjlttRH"
      },
      "source": [
        "IMG_WIDTH = 100\n",
        "IMG_HEIGHT = 75"
      ],
      "execution_count": null,
      "outputs": []
    },
    {
      "cell_type": "markdown",
      "metadata": {
        "id": "eMVUe5bs_2uX"
      },
      "source": [
        "Let's load in our data from last time!"
      ]
    },
    {
      "cell_type": "code",
      "metadata": {
        "id": "Kpq4DXFN6cRf"
      },
      "source": [
        "X = np.load(\"X.npy\")\n",
        "X_g = np.load(\"X_g.npy\")\n",
        "y = np.load(\"y.npy\")"
      ],
      "execution_count": null,
      "outputs": []
    },
    {
      "cell_type": "code",
      "metadata": {
        "id": "UC4VupwgyqpN",
        "colab": {
          "base_uri": "https://localhost:8080/",
          "height": 66,
          "referenced_widgets": [
            "b48ce95b88e54d01898c5ee2b522d591",
            "b2031b6e661b4874829e1bf00085beba",
            "1d79762cd7fb40358a82ef52cfa98558",
            "ecc723b8bfdd4932b9434bf997b35420",
            "88eefd8f72a742fe9c5cfcfcfd8444b8",
            "52d9d3dcb4a44f8197cec2213b1d21ee",
            "87bc73ff52ce4b34a309dae01f8f1c9d",
            "56fa386b23294e269b0f29ff22fa84bf"
          ]
        },
        "outputId": "53d3525f-7ef6-49dc-a15b-179128551370"
      },
      "source": [
        "#@title Run this to Perform Data Augmentation { display-mode: \"form\" }\n",
        "X_train, X_test, y_train, y_test = train_test_split(X, y, test_size=0.4, random_state=101)\n",
        "X_g_train, X_g_test, y_train, y_test = train_test_split(X_g, y, test_size=0.4, random_state=101)\n",
        "\n",
        "X_augmented = []\n",
        "X_g_augmented = []\n",
        "\n",
        "y_augmented = []\n",
        "\n",
        "for i in tqdm(range(len(X_train))):\n",
        "  transform = random.randint(0,1)\n",
        "  if (transform == 0):\n",
        "    # Flip the image across the y-axis\n",
        "    X_augmented.append(cv2.flip(X_train[i],1))\n",
        "    X_g_augmented.append(cv2.flip(X_g_train[i],1))\n",
        "    y_augmented.append(y_train[i])\n",
        "  else:\n",
        "    # Zoom 33% into the image\n",
        "    zoom = 0.33\n",
        "\n",
        "    centerX,centerY=int(IMG_HEIGHT/2),int(IMG_WIDTH/2)\n",
        "    radiusX,radiusY= int((1-zoom)*IMG_HEIGHT*2),int((1-zoom)*IMG_WIDTH*2)\n",
        "\n",
        "    minX,maxX=centerX-radiusX,centerX+radiusX\n",
        "    minY,maxY=centerY-radiusY,centerY+radiusY\n",
        "\n",
        "    cropped = (X_train[i])[minX:maxX, minY:maxY]\n",
        "    new_img = cv2.resize(cropped, (IMG_WIDTH, IMG_HEIGHT))\n",
        "    X_augmented.append(new_img)\n",
        "\n",
        "    cropped = (X_g_train[i])[minX:maxX, minY:maxY]\n",
        "    new_img = cv2.resize(cropped, (IMG_WIDTH, IMG_HEIGHT))\n",
        "    X_g_augmented.append(new_img)\n",
        "\n",
        "    y_augmented.append(y_train[i])\n",
        "\n",
        "X_augmented = np.array(X_augmented)\n",
        "X_g_augmented = np.array(X_g_augmented)\n",
        "\n",
        "y_augmented = np.array(y_augmented)\n",
        "\n",
        "X_train = np.vstack((X_train,X_augmented))\n",
        "X_g_train = np.vstack((X_g_train,X_g_augmented))\n",
        "\n",
        "y_train = np.append(y_train,y_augmented)"
      ],
      "execution_count": null,
      "outputs": [
        {
          "output_type": "display_data",
          "data": {
            "application/vnd.jupyter.widget-view+json": {
              "model_id": "b48ce95b88e54d01898c5ee2b522d591",
              "version_minor": 0,
              "version_major": 2
            },
            "text/plain": [
              "HBox(children=(FloatProgress(value=0.0, max=580.0), HTML(value='')))"
            ]
          },
          "metadata": {
            "tags": []
          }
        },
        {
          "output_type": "stream",
          "text": [
            "\n"
          ],
          "name": "stdout"
        }
      ]
    },
    {
      "cell_type": "markdown",
      "metadata": {
        "id": "dwVcrhcDDE7h"
      },
      "source": [
        "Let's view the shape of our training variables after data augmentation:"
      ]
    },
    {
      "cell_type": "code",
      "metadata": {
        "id": "A2yCz4Cqc9U5",
        "colab": {
          "base_uri": "https://localhost:8080/"
        },
        "outputId": "9fb238ce-8b1d-4e6a-a54b-f400d17ac185"
      },
      "source": [
        "#Your Code Here\n",
        "print(X_train.shape)\n",
        "print(X_g.shape)\n",
        "print(y.shape)\n"
      ],
      "execution_count": null,
      "outputs": [
        {
          "output_type": "stream",
          "text": [
            "(1160, 75, 100, 3)\n",
            "(967, 75, 100)\n",
            "(967,)\n"
          ],
          "name": "stdout"
        }
      ]
    },
    {
      "cell_type": "markdown",
      "metadata": {
        "id": "pZThMze80XRW"
      },
      "source": [
        "# Creating Machine Learning Models"
      ]
    },
    {
      "cell_type": "markdown",
      "metadata": {
        "id": "G8yRJmUHkqWw"
      },
      "source": [
        "**Now**, let's explore some alternative classification options."
      ]
    },
    {
      "cell_type": "markdown",
      "metadata": {
        "id": "5WAr9_wa1AXX"
      },
      "source": [
        "Let's take a look at Convolutional Neural Networks. These machine learning models are tailor made to work with images through the use of *Convolutional Layers*. \n",
        "\n",
        "CNNs contain several kinds of layers; some of the most important are the *Convolutional Layers*, *Pooling Layers*, and *Fully Connected Layers*. \n",
        "\n",
        "The Convolutional Layer is used to extract features from the image through the use of a sliding window, known as a kernel.\n"
      ]
    },
    {
      "cell_type": "markdown",
      "metadata": {
        "id": "iE55_4A6OgiP"
      },
      "source": [
        "![alt text](https://stanford.edu/~shervine/teaching/cs-230/illustrations/convolution-layer-a.png?1c517e00cb8d709baf32fc3d39ebae67)"
      ]
    },
    {
      "cell_type": "markdown",
      "metadata": {
        "id": "BJJzjq1VOkCe"
      },
      "source": [
        "\n",
        "The Pooling Layer reduces the dimensions of the image, and extracts the most important features. This layer is very useful in minimizing overfitting, as a lot of the features that are too specific to the training data will be discarded in this step."
      ]
    },
    {
      "cell_type": "markdown",
      "metadata": {
        "id": "JATieE3K1A6X"
      },
      "source": [
        "![alt text](https://miro.medium.com/max/875/1*KQIEqhxzICU7thjaQBfPBQ.png)"
      ]
    },
    {
      "cell_type": "markdown",
      "metadata": {
        "id": "EkZ5aeG0OT9O"
      },
      "source": [
        "Finally, after multiple iterations of Convolutional and Pooling Layers, the image is converted to a classification probability in the fully connected layer. The fully connected layer is architecturally similar to a traditional neural network. The input to this component is our flattened image (after all the transformations from the Convolutional and Pooling layers are applied), and the outputs are the predictions."
      ]
    },
    {
      "cell_type": "markdown",
      "metadata": {
        "id": "U5Mqv1hwOwYu"
      },
      "source": [
        "\n",
        "![alt text](https://sds-platform-private.s3-us-east-2.amazonaws.com/uploads/74_blog_image_1.png)\n"
      ]
    },
    {
      "cell_type": "code",
      "metadata": {
        "id": "Swoyff2uRp82"
      },
      "source": [
        "# Your Response Here\n",
        "\n"
      ],
      "execution_count": null,
      "outputs": []
    },
    {
      "cell_type": "markdown",
      "metadata": {
        "id": "P15J_c6gxnxI"
      },
      "source": [
        "We'll use the the library Keras to create the models for our skin lesion classification. Let's start off by creating our own CNN model (This is the same model we used in the earlier Intro to CNNs notebook). We can work with our color images with the CNNs."
      ]
    },
    {
      "cell_type": "markdown",
      "metadata": {
        "id": "Ysnigm4YO-Ua"
      },
      "source": [
        "Take a look at the CNN's definition below.\n",
        "\n",
        "**Question**: How is the model organized? Could you draw a diagram of its structure?"
      ]
    },
    {
      "cell_type": "code",
      "metadata": {
        "id": "TB0G7k4jO7Tm"
      },
      "source": [
        "# Your Response Here\n",
        "\n"
      ],
      "execution_count": null,
      "outputs": []
    },
    {
      "cell_type": "code",
      "metadata": {
        "id": "jfVye7oWuNMM"
      },
      "source": [
        "def CNNClassifier(epochs=1, batch_size=10, layers=5, dropout=0.5, activation='relu'):\n",
        "  def set_params():\n",
        "    i = 1  \n",
        "  def create_model():\n",
        "    model = Sequential()\n",
        "    model.add(Reshape((IMG_WIDTH, IMG_HEIGHT, 3)))\n",
        "    \n",
        "    for i in range(layers):\n",
        "      model.add(Conv2D(64, (3, 3), padding='same'))\n",
        "      model.add(Activation(activation))\n",
        "    \n",
        "    model.add(Conv2D(64, (3, 3)))\n",
        "    model.add(Activation(activation))\n",
        "    model.add(MaxPooling2D(pool_size=(2, 2)))\n",
        "    model.add(Dropout(dropout / 2.0))\n",
        "\n",
        "    model.add(Conv2D(128, (3, 3), padding='same'))\n",
        "    model.add(Activation(activation))\n",
        "    model.add(Conv2D(128, (3, 3)))\n",
        "    model.add(Activation(activation))\n",
        "    model.add(MaxPooling2D(pool_size=(2, 2)))\n",
        "    model.add(Dropout(dropout / 2.0))\n",
        "\n",
        "    model.add(Flatten())\n",
        "    model.add(Dense(512))\n",
        "    model.add(Activation(activation))\n",
        "    model.add(Dropout(dropout))\n",
        "    model.add(Dense(7))\n",
        "    model.add(Activation('softmax'))\n",
        "\n",
        "    # initiate RMSprop optimizer\n",
        "    opt = keras.optimizers.RMSprop(lr=0.0001, decay=1e-6)\n",
        "\n",
        "    # Let's train the model using RMSprop\n",
        "    model.compile(loss='categorical_crossentropy',\n",
        "                  optimizer=opt,\n",
        "                  metrics=[tf.keras.metrics.AUC()])\n",
        "    return model\n",
        "  return KerasClassifier(build_fn=create_model, epochs=epochs, batch_size=batch_size, verbose=1)"
      ],
      "execution_count": null,
      "outputs": []
    },
    {
      "cell_type": "markdown",
      "metadata": {
        "id": "VDsvw0vZPYDm"
      },
      "source": [
        "Some terms you might notice include Epochs, Batch Size, Learning Rate, Dropout, and Activation functions:\n",
        "\n",
        "\n",
        "*   Dropout is a method of preventing overfitting by randomly ignoring certain neurons from the model during training.\n",
        "*   Activation functions determine how a neuron calculates its output after adding up its weighted inputs.\n",
        "*   Epochs are just the number of iterations we would like to train our model for.\n",
        "*   Batch Size is the number of samples we would like to send through the model at a time.\n",
        "*   The Learning Rate is a hyperparameter that affects how quickly the model changes to adapt to the training data. \n",
        "\n",
        "Phew, that was a lot of terms! \n",
        "\n",
        "**Question:** With your knowledge so far, what values would you set these parameters to be? What might your model's architecture look like?"
      ]
    },
    {
      "cell_type": "code",
      "metadata": {
        "id": "M33InjU0cybr"
      },
      "source": [
        "# Your Response Here\n",
        "\n"
      ],
      "execution_count": null,
      "outputs": []
    },
    {
      "cell_type": "markdown",
      "metadata": {
        "id": "_1kKW8jm1m24"
      },
      "source": [
        "We also need to transform our y labels into one hot encoded labels for training."
      ]
    },
    {
      "cell_type": "code",
      "metadata": {
        "id": "WPCxQjeS1Qjk"
      },
      "source": [
        "y_train_onehot = np.zeros((y_train.size, y_train.max().astype(int)+1))\n",
        "y_train_onehot[np.arange(y_train.size),y_train.astype(int)] = 1\n",
        "\n",
        "y_test_onehot = np.zeros((y_test.size, y_test.max().astype(int)+1))\n",
        "y_test_onehot[np.arange(y_test.size),y_test.astype(int)] = 1"
      ],
      "execution_count": null,
      "outputs": []
    },
    {
      "cell_type": "markdown",
      "metadata": {
        "id": "tWHMBqfzkBVM"
      },
      "source": [
        "Let's initialize and train our CNN. This may take a while to execute as well."
      ]
    },
    {
      "cell_type": "markdown",
      "metadata": {
        "id": "zl6XIeSQ2bKh"
      },
      "source": [
        ""
      ]
    },
    {
      "cell_type": "code",
      "metadata": {
        "id": "z_blzuQQyiJv",
        "colab": {
          "base_uri": "https://localhost:8080/"
        },
        "outputId": "c3843f69-270e-4577-ad24-1d351628eb60"
      },
      "source": [
        "cnn = CNNClassifier()\n",
        "\n",
        "cnn.fit(X_train.astype(np.float32), y_train_onehot.astype(np.float32),\n",
        "        validation_data=(X_test.astype(np.float32),y_test_onehot.astype(np.float32))\n",
        "        ,verbose=1)"
      ],
      "execution_count": null,
      "outputs": [
        {
          "output_type": "stream",
          "text": [
            "/usr/local/lib/python3.7/dist-packages/tensorflow/python/keras/optimizer_v2/optimizer_v2.py:375: UserWarning: The `lr` argument is deprecated, use `learning_rate` instead.\n",
            "  \"The `lr` argument is deprecated, use `learning_rate` instead.\")\n"
          ],
          "name": "stderr"
        },
        {
          "output_type": "stream",
          "text": [
            "116/116 [==============================] - 73s 138ms/step - loss: 12.3093 - auc: 0.5432 - val_loss: 1.8305 - val_auc: 0.6054\n"
          ],
          "name": "stdout"
        },
        {
          "output_type": "execute_result",
          "data": {
            "text/plain": [
              "<keras.callbacks.History at 0x7fd8e686f390>"
            ]
          },
          "metadata": {
            "tags": []
          },
          "execution_count": 8
        }
      ]
    },
    {
      "cell_type": "markdown",
      "metadata": {
        "id": "NniM-5heGlsh"
      },
      "source": [
        "Let's save and download our trained model, so that we can use it in a web app later on."
      ]
    },
    {
      "cell_type": "code",
      "metadata": {
        "id": "WNiX3iRXTLoz"
      },
      "source": [
        "tfjs.converters.save_keras_model(cnn.model, 'cnn_model')"
      ],
      "execution_count": null,
      "outputs": []
    },
    {
      "cell_type": "markdown",
      "metadata": {
        "id": "f6p-1f4H-WyO"
      },
      "source": [
        "**Let's evaluate our model's performance!** Let's start by defining our `model_stats()` and `plot_cm()` functions."
      ]
    },
    {
      "cell_type": "code",
      "metadata": {
        "id": "tdgFEDo82dYQ"
      },
      "source": [
        "#@title Click here to define `model_stats()`! { display-mode: \"form\" }\n",
        "def model_stats(name, y_test, y_pred, y_pred_proba):\n",
        "  cm = confusion_matrix(y_test, y_pred)\n",
        "\n",
        "  print(name)\n",
        "\n",
        "  accuracy = accuracy_score(y_test,y_pred)\n",
        "  print (\"The accuracy of the model is \" + str(round(accuracy,5)))\n",
        "\n",
        "  y_test_onehot = np.zeros((y_test.size, y_test.max().astype(int)+1))\n",
        "  y_test_onehot[np.arange(y_test.size),y_test.astype(int)] = 1\n",
        "\n",
        "  roc_score = roc_auc_score(y_test_onehot, y_pred_proba)\n",
        "\n",
        "  print (\"The ROC AUC Score of the model is \" + str(round(roc_score,5)))\n",
        "  \n",
        "  return cm"
      ],
      "execution_count": null,
      "outputs": []
    },
    {
      "cell_type": "markdown",
      "metadata": {
        "id": "OvsanDVh3tJ_"
      },
      "source": [
        "How can we use this function to evaluate our model? Code your answer below!"
      ]
    },
    {
      "cell_type": "code",
      "metadata": {
        "id": "S1LVV03hvWI9",
        "colab": {
          "base_uri": "https://localhost:8080/"
        },
        "outputId": "f01531b7-f127-4bd9-a5b0-4b7b7c726055"
      },
      "source": [
        "# Your code here!\n",
        "y_pred = cnn.predict(X_test)\n",
        "y_pred_proba = cnn.predict_proba(X_test)\n",
        "\n",
        "cnn_cm = model_stats(\"CNN\",y_test,y_pred,y_pred_proba)\n"
      ],
      "execution_count": null,
      "outputs": [
        {
          "output_type": "stream",
          "text": [
            "/usr/local/lib/python3.7/dist-packages/keras/engine/sequential.py:450: UserWarning: `model.predict_classes()` is deprecated and will be removed after 2021-01-01. Please use instead:* `np.argmax(model.predict(x), axis=-1)`,   if your model does multi-class classification   (e.g. if it uses a `softmax` last-layer activation).* `(model.predict(x) > 0.5).astype(\"int32\")`,   if your model does binary classification   (e.g. if it uses a `sigmoid` last-layer activation).\n",
            "  warnings.warn('`model.predict_classes()` is deprecated and '\n"
          ],
          "name": "stderr"
        },
        {
          "output_type": "stream",
          "text": [
            "39/39 [==============================] - 2s 31ms/step\n",
            "39/39 [==============================] - 1s 28ms/step\n",
            "CNN\n",
            "The accuracy of the model is 0.31783\n",
            "The ROC AUC Score of the model is 0.73621\n"
          ],
          "name": "stdout"
        }
      ]
    },
    {
      "cell_type": "code",
      "metadata": {
        "id": "EHweJLDq2hJO"
      },
      "source": [
        "#@title Let's also redefine the `plot_cm()` function from our first notebook. { display-mode: \"form\" }\n",
        "def plot_cm(name, cm):\n",
        "  classes = ['akiec', 'bcc', 'bkl', 'df', 'mel', 'nv', 'vasc']\n",
        "\n",
        "  df_cm = pd.DataFrame(cm, index = [i for i in classes], columns = [i for i in classes])\n",
        "  df_cm = df_cm.round(5)\n",
        "\n",
        "  plt.figure(figsize = (12,8))\n",
        "  sns.heatmap(df_cm, annot=True, fmt='g')\n",
        "  plt.title(name + \" Model Confusion Matrix\")\n",
        "  plt.xlabel(\"Predicted Label\")\n",
        "  plt.ylabel(\"True Label\")\n",
        "  plt.show()"
      ],
      "execution_count": null,
      "outputs": []
    },
    {
      "cell_type": "markdown",
      "metadata": {
        "id": "es3RakSP49Tj"
      },
      "source": [
        "Let's use the function to plot a confusion matrix of our model!"
      ]
    },
    {
      "cell_type": "code",
      "metadata": {
        "id": "vN6xRVnLvY9n",
        "colab": {
          "base_uri": "https://localhost:8080/",
          "height": 508
        },
        "outputId": "5d0e8b4f-3989-40f3-a140-400f59fe31c1"
      },
      "source": [
        "# Your code here!\n",
        "plot_cm(\"CNN\", cnn_cm)\n"
      ],
      "execution_count": null,
      "outputs": [
        {
          "output_type": "display_data",
          "data": {
            "image/png": "[encoded data removed]",
            "text/plain": [
              "<Figure size 864x576 with 2 Axes>"
            ]
          },
          "metadata": {
            "tags": [],
            "needs_background": "light"
          }
        }
      ]
    },
    {
      "cell_type": "markdown",
      "metadata": {
        "id": "2j89i4MY0RSm"
      },
      "source": [
        "It looks like our custom CNN's performance is better than the Logistic Regression, KNN, and Decision Tree models. More training epochs or a bigger dataset would probably help with the performance."
      ]
    },
    {
      "cell_type": "markdown",
      "metadata": {
        "id": "bPtcDPJjF9KF"
      },
      "source": [
        "Try building your own CNN! Let's see who can get the best performance in your group!"
      ]
    },
    {
      "cell_type": "markdown",
      "metadata": {
        "id": "CUX0Etpsrnik"
      },
      "source": [
        "### First, define your model here!"
      ]
    },
    {
      "cell_type": "code",
      "metadata": {
        "id": "-eFkna-TGCB0"
      },
      "source": [
        "def CNNClassifier_Modified(epochs=10, batch_size=10, layers=5, dropout=0.5, activation='relu'):\n",
        "  def set_params():\n",
        "    i = 1  \n",
        "  def create_model():\n",
        "    model = Sequential()\n",
        "    model.add(Reshape((IMG_WIDTH, IMG_HEIGHT, 3)))\n",
        "    \n",
        "    \n",
        "    model.add(Conv2D(64, (3, 3)))\n",
        "    model.add(Activation(activation))\n",
        "    model.add(MaxPooling2D(pool_size=(2, 2)))\n",
        "    model.add(Dropout(dropout / 2.0))\n",
        "\n",
        "    model.add(Conv2D(128, (3, 3), padding='same'))\n",
        "    model.add(Activation(activation))\n",
        "    model.add(Conv2D(128, (3, 3)))\n",
        "    model.add(Activation(activation))\n",
        "    model.add(MaxPooling2D(pool_size=(2, 2)))\n",
        "    model.add(Dropout(dropout / 2.0))\n",
        "\n",
        "    model.add(Flatten())\n",
        "    model.add(Dense(512))\n",
        "    model.add(Activation(activation))\n",
        "    model.add(Dropout(dropout))\n",
        "    model.add(Dense(7))\n",
        "    model.add(Activation('softmax'))\n",
        "\n",
        "\n",
        "    # initiate RMSprop optimizer\n",
        "    opt = keras.optimizers.RMSprop(lr=0.0001, decay=1e-6)\n",
        "\n",
        "    # Let's train the model using RMSprop\n",
        "    model.compile(loss='categorical_crossentropy',\n",
        "                  optimizer=opt,\n",
        "                  metrics=[tf.keras.metrics.AUC()])\n",
        "    return model\n",
        "  return KerasClassifier(build_fn=create_model, epochs=epochs, batch_size=batch_size, verbose=1)"
      ],
      "execution_count": null,
      "outputs": []
    },
    {
      "cell_type": "markdown",
      "metadata": {
        "id": "_PPhn_GNrvgq"
      },
      "source": [
        "### Then, run the code below to train your model."
      ]
    },
    {
      "cell_type": "code",
      "metadata": {
        "id": "H1tJLItEGR70",
        "colab": {
          "base_uri": "https://localhost:8080/"
        },
        "outputId": "75f15c98-9dc1-4958-8ce4-84e829a37627"
      },
      "source": [
        "cnn = CNNClassifier_Modified()\n",
        "\n",
        "cnn.fit(X_train.astype(np.float32), y_train_onehot.astype(np.float32),\n",
        "        validation_data=(X_test.astype(np.float32),y_test_onehot.astype(np.float32))\n",
        "        ,verbose=1, epochs = 10)"
      ],
      "execution_count": null,
      "outputs": [
        {
          "output_type": "stream",
          "text": [
            "/usr/local/lib/python3.7/dist-packages/tensorflow/python/keras/optimizer_v2/optimizer_v2.py:375: UserWarning: The `lr` argument is deprecated, use `learning_rate` instead.\n",
            "  \"The `lr` argument is deprecated, use `learning_rate` instead.\")\n"
          ],
          "name": "stderr"
        },
        {
          "output_type": "stream",
          "text": [
            "Epoch 1/10\n",
            "116/116 [==============================] - 10s 65ms/step - loss: 75.4321 - auc_1: 0.5282 - val_loss: 1.9434 - val_auc_1: 0.5555\n",
            "Epoch 2/10\n",
            "116/116 [==============================] - 6s 52ms/step - loss: 1.9201 - auc_1: 0.5594 - val_loss: 1.9336 - val_auc_1: 0.5769\n",
            "Epoch 3/10\n",
            "116/116 [==============================] - 6s 53ms/step - loss: 1.8046 - auc_1: 0.5805 - val_loss: 1.8952 - val_auc_1: 0.5956\n",
            "Epoch 4/10\n",
            "116/116 [==============================] - 6s 52ms/step - loss: 1.7873 - auc_1: 0.5988 - val_loss: 1.8766 - val_auc_1: 0.6100\n",
            "Epoch 5/10\n",
            "116/116 [==============================] - 6s 52ms/step - loss: 1.7963 - auc_1: 0.6116 - val_loss: 1.9155 - val_auc_1: 0.6169\n",
            "Epoch 6/10\n",
            "116/116 [==============================] - 6s 52ms/step - loss: 1.7316 - auc_1: 0.6186 - val_loss: 1.8867 - val_auc_1: 0.6267\n",
            "Epoch 7/10\n",
            "116/116 [==============================] - 6s 52ms/step - loss: 1.7223 - auc_1: 0.6283 - val_loss: 1.8486 - val_auc_1: 0.6349\n",
            "Epoch 8/10\n",
            "116/116 [==============================] - 6s 52ms/step - loss: 1.6909 - auc_1: 0.6366 - val_loss: 1.9269 - val_auc_1: 0.6409\n",
            "Epoch 9/10\n",
            "116/116 [==============================] - 6s 52ms/step - loss: 1.7303 - auc_1: 0.6415 - val_loss: 1.8973 - val_auc_1: 0.6460\n",
            "Epoch 10/10\n",
            "116/116 [==============================] - 6s 52ms/step - loss: 1.6544 - auc_1: 0.6471 - val_loss: 1.8306 - val_auc_1: 0.6518\n"
          ],
          "name": "stdout"
        },
        {
          "output_type": "execute_result",
          "data": {
            "text/plain": [
              "<keras.callbacks.History at 0x7fd887f10350>"
            ]
          },
          "metadata": {
            "tags": []
          },
          "execution_count": 16
        }
      ]
    },
    {
      "cell_type": "markdown",
      "metadata": {
        "id": "2easqS-JviIS"
      },
      "source": [
        "### Next, let's evaluate your model's performance!"
      ]
    },
    {
      "cell_type": "code",
      "metadata": {
        "id": "6dSZrUKzGUZ7",
        "colab": {
          "base_uri": "https://localhost:8080/"
        },
        "outputId": "f93f5992-c9f1-480d-bcdd-94eac96eca4c"
      },
      "source": [
        "y_pred = cnn.predict(X_test)\n",
        "y_pred_proba = cnn.predict_proba(X_test)\n",
        "cnn_cm = model_stats(\"CNN\",y_test,y_pred,y_pred_proba)"
      ],
      "execution_count": null,
      "outputs": [
        {
          "output_type": "stream",
          "text": [
            "/usr/local/lib/python3.7/dist-packages/keras/engine/sequential.py:450: UserWarning: `model.predict_classes()` is deprecated and will be removed after 2021-01-01. Please use instead:* `np.argmax(model.predict(x), axis=-1)`,   if your model does multi-class classification   (e.g. if it uses a `softmax` last-layer activation).* `(model.predict(x) > 0.5).astype(\"int32\")`,   if your model does binary classification   (e.g. if it uses a `sigmoid` last-layer activation).\n",
            "  warnings.warn('`model.predict_classes()` is deprecated and '\n"
          ],
          "name": "stderr"
        },
        {
          "output_type": "stream",
          "text": [
            "39/39 [==============================] - 1s 12ms/step\n",
            "39/39 [==============================] - 0s 10ms/step\n",
            "CNN\n",
            "The accuracy of the model is 0.21964\n",
            "The ROC AUC Score of the model is 0.60519\n"
          ],
          "name": "stdout"
        }
      ]
    },
    {
      "cell_type": "markdown",
      "metadata": {
        "id": "BVnNteSEvp3x"
      },
      "source": [
        "### Finally, we can plot our confusion matrix below."
      ]
    },
    {
      "cell_type": "code",
      "metadata": {
        "id": "B6DWNF-AGWQr",
        "colab": {
          "base_uri": "https://localhost:8080/",
          "height": 508
        },
        "outputId": "d3602cff-e0b1-4cfa-8265-819ac67b1028"
      },
      "source": [
        "plot_cm(\"CNN\", cnn_cm)"
      ],
      "execution_count": null,
      "outputs": [
        {
          "output_type": "display_data",
          "data": {
            "image/png": "[encoded data removed]",
            "text/plain": [
              "<Figure size 864x576 with 2 Axes>"
            ]
          },
          "metadata": {
            "tags": [],
            "needs_background": "light"
          }
        }
      ]
    },
    {
      "cell_type": "markdown",
      "metadata": {
        "id": "JK-jmPIbELKO"
      },
      "source": [
        "Let's try using a grid search with our CNN. A note to instructors, this section may take a long time to execute so it's better if students come back to this portion on their own time."
      ]
    },
    {
      "cell_type": "markdown",
      "metadata": {
        "id": "vSbd6nVW8qnK"
      },
      "source": [
        "In the variable `param_grid` we can specify which parameters in our CNN we want to modify."
      ]
    },
    {
      "cell_type": "code",
      "metadata": {
        "id": "h9sLO2ozhbEp"
      },
      "source": [
        "param_grid = {\n",
        "              'epochs' :              [10, 20, 30],\n",
        "              'batch_size' :          [32, 64,128],\n",
        "              'layers' :              [1, 3, 5],\n",
        "              'dropout' :             [0.2, 0.3, 0.5],\n",
        "              'activation' :          ['relu', 'elu']\n",
        "             }"
      ],
      "execution_count": null,
      "outputs": []
    },
    {
      "cell_type": "markdown",
      "metadata": {
        "id": "gUZ5HOnoFdur"
      },
      "source": [
        "With this parameter grid we would be training 162 different models! This is because the total number of hyperparameter combinations is calculated as `3 * 3 * 3 * 3 * 2`. For testing out our grid search, let's redefine our parameter grid to just have four possible combinations.\n",
        "\n"
      ]
    },
    {
      "cell_type": "code",
      "metadata": {
        "id": "t3RbPa_cXV90"
      },
      "source": [
        "# Your Code Here\n",
        "param_grid = {\n",
        "              'epochs' :              [1, 2],\n",
        "              'dropout' :             [0.2, 0.3],\n",
        "             }\n",
        "\n"
      ],
      "execution_count": null,
      "outputs": []
    },
    {
      "cell_type": "markdown",
      "metadata": {
        "id": "L6O6O1kOzw45"
      },
      "source": [
        "Let's create a validation slice in our dataset."
      ]
    },
    {
      "cell_type": "code",
      "metadata": {
        "id": "Wq58SXMGz21Q"
      },
      "source": [
        "X_test_small, X_val, y_test_small, y_val = train_test_split(X_test, y_test, test_size=0.5, random_state=101)"
      ],
      "execution_count": null,
      "outputs": []
    },
    {
      "cell_type": "markdown",
      "metadata": {
        "id": "YhvYxtNbFASa"
      },
      "source": [
        "Here we've created a class for our Grid Search Classifier that can be used by the hypopt library for generating various models with different hyperparameters."
      ]
    },
    {
      "cell_type": "code",
      "metadata": {
        "id": "qzz_Dod38c09"
      },
      "source": [
        "#@title Run this to Define our Grid Search CNN Class { display-mode: \"form\" }\n",
        "class gridSearchCNN():\n",
        "    \n",
        "    keras_model = None\n",
        "    model = Sequential()\n",
        "    #epochs=10\n",
        "    epochs=1\n",
        "    batch_size=10\n",
        "    layers=5\n",
        "    dropout=0.5\n",
        "    activation='relu'\n",
        "    \n",
        "    def __init__(self, **params):\n",
        "      pass\n",
        "  \n",
        "    def fit(self, X, y, sample_weight = None):\n",
        "        print(\"fitting\")\n",
        "        self.keras_model.fit(X,y)\n",
        "        print(\"fitted\")\n",
        "        return self.keras_model\n",
        "    def predict(self, X):\n",
        "        return self.keras_model.predict(X)\n",
        "    def predict_proba(self, X):\n",
        "        return self.keras_model.predict_proba(X)\n",
        "    def score(self, X, y, sample_weight = None):\n",
        "        print(\"scoring\")\n",
        "        #return self.keras_model.score(X,y)\n",
        "        y_pred_proba = self.keras_model.predict_proba(X)\n",
        "        roc_auc_score_val = roc_auc_score(y, y_pred_proba)\n",
        "        print(\"scored\")\n",
        "        return roc_auc_score_val\n",
        "                \n",
        "    \n",
        "    def createKerasCNN(self,):\n",
        "      \n",
        "      def create_model():\n",
        "        self.model = Sequential() \n",
        "        self.model.add(Reshape((IMG_WIDTH, IMG_HEIGHT, 3)))\n",
        "        \n",
        "        for i in range(self.layers):\n",
        "          self.model.add(Conv2D(64, (3, 3), padding='same'))\n",
        "          self.model.add(Activation(self.activation))\n",
        "        \n",
        "        self.model.add(Conv2D(64, (3, 3)))\n",
        "        self.model.add(Activation(self.activation))\n",
        "        self.model.add(MaxPooling2D(pool_size=(2, 2)))\n",
        "        self.model.add(Dropout(self.dropout / 2.0))\n",
        "\n",
        "        self.model.add(Conv2D(128, (3, 3), padding='same'))\n",
        "        self.model.add(Activation(self.activation))\n",
        "        self.model.add(Conv2D(128, (3, 3)))\n",
        "        self.model.add(Activation(self.activation))\n",
        "        self.model.add(MaxPooling2D(pool_size=(2, 2)))\n",
        "        self.model.add(Dropout(self.dropout / 2.0))\n",
        "\n",
        "        self.model.add(Flatten())\n",
        "        self.model.add(Dense(512))\n",
        "        self.model.add(Activation(self.activation))\n",
        "        self.model.add(Dropout(self.dropout))\n",
        "        self.model.add(Dense(7))\n",
        "        self.model.add(Activation('softmax'))\n",
        "\n",
        "        # initiate RMSprop optimizer\n",
        "        opt = keras.optimizers.RMSprop(lr=0.0001, decay=1e-6)\n",
        "\n",
        "        # Let's train the model using RMSprop\n",
        "        self.model.compile(loss='categorical_crossentropy',\n",
        "                      optimizer=opt,\n",
        "                      metrics=[tf.keras.metrics.AUC()])\n",
        "        return self.model\n",
        "\n",
        "      return KerasClassifier(build_fn=create_model, epochs=self.epochs, \n",
        "                            batch_size=self.batch_size, verbose=2)\n",
        "\n",
        "    def get_params(self, deep = True):\n",
        "        return {\n",
        "            'epochs': self.epochs,\n",
        "            'batch_size': self.batch_size,\n",
        "            'layers': self.layers,\n",
        "            'dropout': self.dropout,\n",
        "            'activation': self.activation\n",
        "            }\n",
        "\n",
        "    def set_params(self, **params):\n",
        "      if 'epochs' in params.keys():\n",
        "        self.epochs = params['epochs']\n",
        "      if 'batch_size' in params.keys():\n",
        "        self.batch_size = params['batch_size']\n",
        "      if 'layers' in params.keys():\n",
        "        self.layers = params['layers']\n",
        "      if 'dropout' in params.keys():\n",
        "        self.dropout = params['dropout']\n",
        "      if 'activation' in params.keys():\n",
        "        self.activation = params['activation']\n",
        "      \n",
        "      self.keras_model = self.createKerasCNN()\n",
        "      return self"
      ],
      "execution_count": null,
      "outputs": []
    },
    {
      "cell_type": "markdown",
      "metadata": {
        "id": "KMGPIzKqkOQO"
      },
      "source": [
        "Now let's implement our grid search to identify our optimal model parameters.\n",
        "\n",
        "**Note:** This may take very long to run, so it might be a good idea to come back to this later."
      ]
    },
    {
      "cell_type": "code",
      "metadata": {
        "id": "kSdY_2_PvwNd"
      },
      "source": [
        "gs = GridSearch(model=gridSearchCNN(),param_grid=param_grid,parallelize=False)\n",
        "# Your Code Here\n",
        "\n",
        "# End Code\n",
        "y_train_onehot = np.zeros((y_train.size, y_train.max().astype(int)+1))\n",
        "y_train_onehot[np.arange(y_train.size),y_train.astype(int)] = 1\n",
        "\n",
        "y_val_onehot = np.zeros((y_val.size, y_val.max().astype(int)+1))\n",
        "y_val_onehot[np.arange(y_val.size),y_val.astype(int)] = 1"
      ],
      "execution_count": null,
      "outputs": []
    },
    {
      "cell_type": "markdown",
      "metadata": {
        "id": "sov5qvd49gZ1"
      },
      "source": [
        "Let's evaluate our model with our testing dataset."
      ]
    },
    {
      "cell_type": "code",
      "metadata": {
        "id": "qUi61PjX9lS2",
        "colab": {
          "base_uri": "https://localhost:8080/"
        },
        "outputId": "cff89507-24e1-4893-b8e9-fd64305f905b"
      },
      "source": [
        "# Your Code Here\n",
        "gs.fit(X_train.astype(np.float32), y_train_onehot.astype(np.float32),\n",
        "       X_val.astype(np.float32), y_val_onehot.astype(np.float32),verbose=1)\n",
        "\n"
      ],
      "execution_count": null,
      "outputs": [
        {
          "output_type": "stream",
          "text": [
            "Comparing 4 parameter setting(s) using 2 CPU thread(s) ( 2 job(s) per thread ).\n",
            "fitting\n"
          ],
          "name": "stdout"
        },
        {
          "output_type": "stream",
          "text": [
            "/usr/local/lib/python3.7/dist-packages/tensorflow/python/keras/optimizer_v2/optimizer_v2.py:375: UserWarning: The `lr` argument is deprecated, use `learning_rate` instead.\n",
            "  \"The `lr` argument is deprecated, use `learning_rate` instead.\")\n"
          ],
          "name": "stderr"
        },
        {
          "output_type": "stream",
          "text": [
            "116/116 - 16s - loss: 3.2829 - auc_2: 0.5900\n",
            "fitted\n",
            "scoring\n",
            "20/20 - 2s\n",
            "scored\n",
            "fitting\n",
            "Epoch 1/2\n"
          ],
          "name": "stdout"
        },
        {
          "output_type": "stream",
          "text": [
            "/usr/local/lib/python3.7/dist-packages/tensorflow/python/keras/optimizer_v2/optimizer_v2.py:375: UserWarning: The `lr` argument is deprecated, use `learning_rate` instead.\n",
            "  \"The `lr` argument is deprecated, use `learning_rate` instead.\")\n"
          ],
          "name": "stderr"
        },
        {
          "output_type": "stream",
          "text": [
            "116/116 - 16s - loss: 2.7222 - auc_3: 0.5876\n",
            "Epoch 2/2\n",
            "116/116 - 12s - loss: 1.6370 - auc_3: 0.6652\n",
            "fitted\n",
            "scoring\n",
            "20/20 - 2s\n",
            "scored\n",
            "fitting\n"
          ],
          "name": "stdout"
        },
        {
          "output_type": "stream",
          "text": [
            "/usr/local/lib/python3.7/dist-packages/tensorflow/python/keras/optimizer_v2/optimizer_v2.py:375: UserWarning: The `lr` argument is deprecated, use `learning_rate` instead.\n",
            "  \"The `lr` argument is deprecated, use `learning_rate` instead.\")\n"
          ],
          "name": "stderr"
        },
        {
          "output_type": "stream",
          "text": [
            "116/116 - 16s - loss: 3.3073 - auc_4: 0.5462\n",
            "fitted\n",
            "scoring\n",
            "20/20 - 2s\n",
            "scored\n",
            "fitting\n",
            "Epoch 1/2\n"
          ],
          "name": "stdout"
        },
        {
          "output_type": "stream",
          "text": [
            "/usr/local/lib/python3.7/dist-packages/tensorflow/python/keras/optimizer_v2/optimizer_v2.py:375: UserWarning: The `lr` argument is deprecated, use `learning_rate` instead.\n",
            "  \"The `lr` argument is deprecated, use `learning_rate` instead.\")\n"
          ],
          "name": "stderr"
        },
        {
          "output_type": "stream",
          "text": [
            "116/116 - 16s - loss: 3.7850 - auc_5: 0.5761\n",
            "Epoch 2/2\n",
            "116/116 - 12s - loss: 1.7365 - auc_5: 0.6529\n",
            "fitted\n",
            "scoring\n",
            "20/20 - 2s\n",
            "scored\n"
          ],
          "name": "stdout"
        },
        {
          "output_type": "execute_result",
          "data": {
            "text/plain": [
              "<__main__.gridSearchCNN at 0x7fd8e55ac690>"
            ]
          },
          "metadata": {
            "tags": []
          },
          "execution_count": 24
        }
      ]
    },
    {
      "cell_type": "code",
      "metadata": {
        "colab": {
          "base_uri": "https://localhost:8080/"
        },
        "id": "knenTgjGAHhh",
        "outputId": "bf991371-ca0c-49a2-93b0-7498d0e2dec6"
      },
      "source": [
        "y_pred = gs.predict(X_test_small)\n",
        "y_pred_proba = gs.predict_proba(X_test_small)\n",
        "gs_cm = model_stats(\"Grid Search CNN\",y_test_small,y_pred,y_pred_proba)"
      ],
      "execution_count": null,
      "outputs": [
        {
          "output_type": "stream",
          "text": [
            "/usr/local/lib/python3.7/dist-packages/keras/engine/sequential.py:450: UserWarning: `model.predict_classes()` is deprecated and will be removed after 2021-01-01. Please use instead:* `np.argmax(model.predict(x), axis=-1)`,   if your model does multi-class classification   (e.g. if it uses a `softmax` last-layer activation).* `(model.predict(x) > 0.5).astype(\"int32\")`,   if your model does binary classification   (e.g. if it uses a `sigmoid` last-layer activation).\n",
            "  warnings.warn('`model.predict_classes()` is deprecated and '\n"
          ],
          "name": "stderr"
        },
        {
          "output_type": "stream",
          "text": [
            "20/20 - 1s\n",
            "20/20 - 1s\n",
            "Grid Search CNN\n",
            "The accuracy of the model is 0.38342\n",
            "The ROC AUC Score of the model is 0.77222\n"
          ],
          "name": "stdout"
        }
      ]
    },
    {
      "cell_type": "markdown",
      "metadata": {
        "id": "69xnmWMM-IVp"
      },
      "source": [
        "Let's also plot the confusion matrix."
      ]
    },
    {
      "cell_type": "code",
      "metadata": {
        "id": "MedHDGHE-OLo",
        "colab": {
          "base_uri": "https://localhost:8080/",
          "height": 508
        },
        "outputId": "82cbc31c-44d9-4149-8cee-b1eab26199e6"
      },
      "source": [
        "# Your Code Here\n",
        "plot_cm(\"CNN\", gs_cm)"
      ],
      "execution_count": null,
      "outputs": [
        {
          "output_type": "display_data",
          "data": {
            "image/png": "[encoded data removed]",
            "text/plain": [
              "<Figure size 864x576 with 2 Axes>"
            ]
          },
          "metadata": {
            "tags": [],
            "needs_background": "light"
          }
        }
      ]
    },
    {
      "cell_type": "markdown",
      "metadata": {
        "id": "VxzSJIvvhC_I"
      },
      "source": [
        "#Transfer Learning\n",
        "\n",
        "Now, let's try implementing *transfer learning.* This a form of machine learning where we take an existing pre-trained network and modify the weights for the top level neurons by training on our dataset. Here, we'll use the MobileNet model as a basis for our model."
      ]
    },
    {
      "cell_type": "code",
      "metadata": {
        "id": "m_JkoWrRwJms"
      },
      "source": [
        "def transfer_learning_model():\n",
        "  mobilenet_model = MobileNet(input_shape=(IMG_HEIGHT,IMG_WIDTH,3), include_top=False, pooling=\"max\")\n",
        "\n",
        "  transfer_model = Sequential()\n",
        "  transfer_model.add(mobilenet_model)\n",
        "  transfer_model.add(Dropout(0.1))\n",
        "  transfer_model.add(BatchNormalization())\n",
        "  transfer_model.add(Dense(256, activation=\"relu\"))\n",
        "  transfer_model.add(Dropout(0.1))\n",
        "  transfer_model.add(BatchNormalization())\n",
        "  transfer_model.add(Dense(7, activation=\"softmax\"))\n",
        "\n",
        "  # initiate RMSprop optimizer\n",
        "  opt = keras.optimizers.RMSprop(lr=0.0001, decay=1e-6)\n",
        "\n",
        "  # Let's train the model using RMSprop\n",
        "  transfer_model.compile(loss='categorical_crossentropy',\n",
        "                optimizer=opt,\n",
        "                metrics=[tf.keras.metrics.AUC()])\n",
        "\n",
        "  return transfer_model"
      ],
      "execution_count": null,
      "outputs": []
    },
    {
      "cell_type": "markdown",
      "metadata": {
        "id": "p31AQxYW_rhq"
      },
      "source": [
        "We no longer need the validation dataset as we aren't tweaking any hyperparameters anymore, so we can use our original, bigger `X_test` dataset that includes the validation data."
      ]
    },
    {
      "cell_type": "markdown",
      "metadata": {
        "id": "yInf5HpxGlvR"
      },
      "source": [
        "Let's confirm that our training and testing variables are the right shapes. Once again, we'll use the one-hot encoded variables for the output: `y_test_roc` and `y_train_roc`."
      ]
    },
    {
      "cell_type": "markdown",
      "metadata": {
        "id": "y000oRyf-yRy"
      },
      "source": [
        "Let's define our `transfer_model` and train it below!"
      ]
    },
    {
      "cell_type": "code",
      "metadata": {
        "id": "T0NmNz5L_Rku",
        "colab": {
          "base_uri": "https://localhost:8080/"
        },
        "outputId": "db44881d-2b92-468a-f05b-be979a050b24"
      },
      "source": [
        "transfer_model = KerasClassifier(build_fn=transfer_learning_model, verbose=1, epochs=20)\n",
        "# Your Code Here\n",
        "print(X_train.shape)\n",
        "print(y_train_onehot.shape)\n",
        "\n",
        "print(X_test.shape)\n",
        "print(y_test_onehot.shape)"
      ],
      "execution_count": null,
      "outputs": [
        {
          "output_type": "stream",
          "text": [
            "(1160, 75, 100, 3)\n",
            "(1160, 7)\n",
            "(387, 75, 100, 3)\n",
            "(387, 7)\n"
          ],
          "name": "stdout"
        }
      ]
    },
    {
      "cell_type": "markdown",
      "metadata": {
        "id": "rAQXleqU_DEy"
      },
      "source": [
        "Let's also observe its performance:"
      ]
    },
    {
      "cell_type": "code",
      "metadata": {
        "id": "Qmemnv5RDf4_",
        "colab": {
          "base_uri": "https://localhost:8080/"
        },
        "outputId": "0a8a4c06-a2ed-4420-f531-967a286bc682"
      },
      "source": [
        "# Your Code Here\n",
        "\n",
        "transfer_model.fit(X_train.astype(np.float32), y_train_onehot.astype(np.float32),\n",
        "        validation_data=(X_test.astype(np.float32),y_test_onehot.astype(np.float32))\n",
        "        ,verbose=1)\n"
      ],
      "execution_count": null,
      "outputs": [
        {
          "output_type": "stream",
          "text": [
            "WARNING:tensorflow:`input_shape` is undefined or non-square, or `rows` is not in [128, 160, 192, 224]. Weights for input shape (224, 224) will be loaded as the default.\n",
            "Downloading data from https://storage.googleapis.com/tensorflow/keras-applications/mobilenet/mobilenet_1_0_224_tf_no_top.h5\n",
            "17227776/17225924 [==============================] - 0s 0us/step\n",
            "17235968/17225924 [==============================] - 0s 0us/step\n"
          ],
          "name": "stdout"
        },
        {
          "output_type": "stream",
          "text": [
            "/usr/local/lib/python3.7/dist-packages/tensorflow/python/keras/optimizer_v2/optimizer_v2.py:375: UserWarning: The `lr` argument is deprecated, use `learning_rate` instead.\n",
            "  \"The `lr` argument is deprecated, use `learning_rate` instead.\")\n"
          ],
          "name": "stderr"
        },
        {
          "output_type": "stream",
          "text": [
            "Epoch 1/20\n",
            "37/37 [==============================] - 21s 171ms/step - loss: 2.0428 - auc_6: 0.6126 - val_loss: 2.6128 - val_auc_6: 0.7121\n",
            "Epoch 2/20\n",
            "37/37 [==============================] - 3s 73ms/step - loss: 1.0482 - auc_6: 0.7336 - val_loss: 2.3083 - val_auc_6: 0.7922\n",
            "Epoch 3/20\n",
            "37/37 [==============================] - 3s 73ms/step - loss: 0.6281 - auc_6: 0.8056 - val_loss: 1.7771 - val_auc_6: 0.8415\n",
            "Epoch 4/20\n",
            "37/37 [==============================] - 3s 73ms/step - loss: 0.4390 - auc_6: 0.8509 - val_loss: 1.5238 - val_auc_6: 0.8754\n",
            "Epoch 5/20\n",
            "37/37 [==============================] - 3s 72ms/step - loss: 0.2926 - auc_6: 0.8822 - val_loss: 1.3543 - val_auc_6: 0.8998\n",
            "Epoch 6/20\n",
            "37/37 [==============================] - 3s 73ms/step - loss: 0.2054 - auc_6: 0.9048 - val_loss: 1.2255 - val_auc_6: 0.9173\n",
            "Epoch 7/20\n",
            "37/37 [==============================] - 3s 73ms/step - loss: 0.1218 - auc_6: 0.9212 - val_loss: 1.1662 - val_auc_6: 0.9305\n",
            "Epoch 8/20\n",
            "37/37 [==============================] - 3s 73ms/step - loss: 0.0914 - auc_6: 0.9333 - val_loss: 1.1086 - val_auc_6: 0.9402\n",
            "Epoch 9/20\n",
            "37/37 [==============================] - 3s 72ms/step - loss: 0.0853 - auc_6: 0.9423 - val_loss: 1.1364 - val_auc_6: 0.9476\n",
            "Epoch 10/20\n",
            "37/37 [==============================] - 3s 73ms/step - loss: 0.0494 - auc_6: 0.9491 - val_loss: 1.1735 - val_auc_6: 0.9532\n",
            "Epoch 11/20\n",
            "37/37 [==============================] - 3s 73ms/step - loss: 0.0500 - auc_6: 0.9541 - val_loss: 1.1942 - val_auc_6: 0.9575\n",
            "Epoch 12/20\n",
            "37/37 [==============================] - 3s 73ms/step - loss: 0.0438 - auc_6: 0.9583 - val_loss: 1.2076 - val_auc_6: 0.9607\n",
            "Epoch 13/20\n",
            "37/37 [==============================] - 3s 73ms/step - loss: 0.0268 - auc_6: 0.9614 - val_loss: 1.1061 - val_auc_6: 0.9637\n",
            "Epoch 14/20\n",
            "37/37 [==============================] - 3s 76ms/step - loss: 0.0381 - auc_6: 0.9643 - val_loss: 1.1134 - val_auc_6: 0.9662\n",
            "Epoch 15/20\n",
            "37/37 [==============================] - 3s 73ms/step - loss: 0.0214 - auc_6: 0.9667 - val_loss: 1.1536 - val_auc_6: 0.9683\n",
            "Epoch 16/20\n",
            "37/37 [==============================] - 3s 74ms/step - loss: 0.0190 - auc_6: 0.9686 - val_loss: 1.1650 - val_auc_6: 0.9699\n",
            "Epoch 17/20\n",
            "37/37 [==============================] - 3s 72ms/step - loss: 0.0216 - auc_6: 0.9702 - val_loss: 1.1519 - val_auc_6: 0.9714\n",
            "Epoch 18/20\n",
            "37/37 [==============================] - 3s 75ms/step - loss: 0.0214 - auc_6: 0.9717 - val_loss: 1.2289 - val_auc_6: 0.9727\n",
            "Epoch 19/20\n",
            "37/37 [==============================] - 3s 72ms/step - loss: 0.0149 - auc_6: 0.9728 - val_loss: 1.2311 - val_auc_6: 0.9737\n",
            "Epoch 20/20\n",
            "37/37 [==============================] - 3s 72ms/step - loss: 0.0121 - auc_6: 0.9739 - val_loss: 1.1501 - val_auc_6: 0.9747\n"
          ],
          "name": "stdout"
        },
        {
          "output_type": "execute_result",
          "data": {
            "text/plain": [
              "<keras.callbacks.History at 0x7fd87a935050>"
            ]
          },
          "metadata": {
            "tags": []
          },
          "execution_count": 30
        }
      ]
    },
    {
      "cell_type": "code",
      "metadata": {
        "colab": {
          "base_uri": "https://localhost:8080/"
        },
        "id": "in0NSljzBvej",
        "outputId": "6b8b656b-589c-42a8-827a-db1164912f52"
      },
      "source": [
        "y_pred = transfer_model.predict(X_test)\n",
        "y_pred_proba = transfer_model.predict_proba(X_test)\n",
        "transfer_cm = model_stats(\"Transfer CNN\",y_test,y_pred,y_pred_proba)"
      ],
      "execution_count": null,
      "outputs": [
        {
          "output_type": "stream",
          "text": [
            "/usr/local/lib/python3.7/dist-packages/keras/engine/sequential.py:450: UserWarning: `model.predict_classes()` is deprecated and will be removed after 2021-01-01. Please use instead:* `np.argmax(model.predict(x), axis=-1)`,   if your model does multi-class classification   (e.g. if it uses a `softmax` last-layer activation).* `(model.predict(x) > 0.5).astype(\"int32\")`,   if your model does binary classification   (e.g. if it uses a `sigmoid` last-layer activation).\n",
            "  warnings.warn('`model.predict_classes()` is deprecated and '\n"
          ],
          "name": "stderr"
        },
        {
          "output_type": "stream",
          "text": [
            "13/13 [==============================] - 3s 18ms/step\n",
            "13/13 [==============================] - 0s 17ms/step\n",
            "Transfer CNN\n",
            "The accuracy of the model is 0.68992\n",
            "The ROC AUC Score of the model is 0.92727\n"
          ],
          "name": "stdout"
        }
      ]
    },
    {
      "cell_type": "markdown",
      "metadata": {
        "id": "fcjLUgpa_E-e"
      },
      "source": [
        "Let's take a look at the confusion matrix."
      ]
    },
    {
      "cell_type": "code",
      "metadata": {
        "id": "-n_p4h60ADL1",
        "colab": {
          "base_uri": "https://localhost:8080/",
          "height": 508
        },
        "outputId": "41adac64-e7fe-4ef8-e50e-7252f7da00f4"
      },
      "source": [
        "# Your Code Here\n",
        "plot_cm(\"CNN\", transfer_cm)"
      ],
      "execution_count": null,
      "outputs": [
        {
          "output_type": "display_data",
          "data": {
            "image/png": "[encoded data removed]",
            "text/plain": [
              "<Figure size 864x576 with 2 Axes>"
            ]
          },
          "metadata": {
            "tags": [],
            "needs_background": "light"
          }
        }
      ]
    },
    {
      "cell_type": "code",
      "metadata": {
        "id": "TDEUEsiPBumO"
      },
      "source": [
        ""
      ],
      "execution_count": null,
      "outputs": []
    },
    {
      "cell_type": "markdown",
      "metadata": {
        "id": "l5fUPqfuAhoE"
      },
      "source": [
        "Great, looks like this model performed the best! **Question:** Why would that be? "
      ]
    },
    {
      "cell_type": "code",
      "metadata": {
        "id": "XjPeKGhNAnj6"
      },
      "source": [
        "# Your Response Here\n",
        "\n",
        "\n"
      ],
      "execution_count": null,
      "outputs": []
    },
    {
      "cell_type": "markdown",
      "metadata": {
        "id": "AYNCn41kApnl"
      },
      "source": [
        "Now that we've created our model, let's save it to a file we can load up later."
      ]
    },
    {
      "cell_type": "code",
      "metadata": {
        "id": "dtGN1E9tN2A0"
      },
      "source": [
        "tfjs.converters.save_keras_model(transfer_model.model, 'transfer_model')"
      ],
      "execution_count": null,
      "outputs": []
    },
    {
      "cell_type": "markdown",
      "metadata": {
        "id": "v6v4v5r8Dw0j"
      },
      "source": [
        " Now, the model should be saved to your computer through your browser. Unfortunately, tensorflowjs doesn't support this version of MobileNet, so we'll have to use our first CNN model for the website deployment."
      ]
    },
    {
      "cell_type": "markdown",
      "metadata": {
        "id": "IIwaTfNvDXo0"
      },
      "source": [
        "Great work! We've just developed various ML models to perform classification on our skin lesion dataset! Now, our next step is to package this model into a mobile application. Run the code cell below."
      ]
    },
    {
      "cell_type": "code",
      "metadata": {
        "id": "CX6OKDjzyvVP",
        "colab": {
          "base_uri": "https://localhost:8080/"
        },
        "outputId": "81ab9a18-ff86-4ec0-9058-77087c29aca2"
      },
      "source": [
        "!zip -r ./cnn_model.zip ./cnn_model/"
      ],
      "execution_count": null,
      "outputs": [
        {
          "output_type": "stream",
          "text": [
            "  adding: cnn_model/ (stored 0%)\n",
            "  adding: cnn_model/group1-shard18of25.bin (deflated 8%)\n",
            "  adding: cnn_model/group1-shard16of25.bin (deflated 8%)\n",
            "  adding: cnn_model/group1-shard10of25.bin (deflated 8%)\n",
            "  adding: cnn_model/group1-shard24of25.bin (deflated 8%)\n",
            "  adding: cnn_model/group1-shard11of25.bin (deflated 8%)\n",
            "  adding: cnn_model/group1-shard20of25.bin (deflated 8%)\n",
            "  adding: cnn_model/group1-shard8of25.bin (deflated 8%)\n",
            "  adding: cnn_model/model.json (deflated 85%)\n",
            "  adding: cnn_model/group1-shard25of25.bin (deflated 8%)\n",
            "  adding: cnn_model/group1-shard13of25.bin (deflated 8%)\n",
            "  adding: cnn_model/group1-shard14of25.bin (deflated 8%)\n",
            "  adding: cnn_model/group1-shard23of25.bin (deflated 8%)\n",
            "  adding: cnn_model/group1-shard12of25.bin (deflated 8%)\n",
            "  adding: cnn_model/group1-shard15of25.bin (deflated 8%)\n",
            "  adding: cnn_model/group1-shard7of25.bin (deflated 8%)\n",
            "  adding: cnn_model/group1-shard4of25.bin (deflated 8%)\n",
            "  adding: cnn_model/group1-shard6of25.bin (deflated 8%)\n",
            "  adding: cnn_model/group1-shard3of25.bin (deflated 8%)\n",
            "  adding: cnn_model/group1-shard9of25.bin (deflated 8%)\n",
            "  adding: cnn_model/group1-shard21of25.bin (deflated 8%)\n",
            "  adding: cnn_model/group1-shard22of25.bin (deflated 8%)\n",
            "  adding: cnn_model/group1-shard5of25.bin (deflated 8%)\n",
            "  adding: cnn_model/group1-shard1of25.bin (deflated 8%)\n",
            "  adding: cnn_model/group1-shard17of25.bin (deflated 8%)\n",
            "  adding: cnn_model/group1-shard2of25.bin (deflated 8%)\n",
            "  adding: cnn_model/group1-shard19of25.bin (deflated 8%)\n"
          ],
          "name": "stdout"
        }
      ]
    },
    {
      "cell_type": "markdown",
      "metadata": {
        "id": "on_CQSbjPSZJ"
      },
      "source": [
        "After the line of code above finishes executing, click on the folder icon on the left, click the three dots to the left of ```cnn_model.zip```, and download it to your computer. Downloading might take a while! You'll be uploading this file to colab notebook 2b so that you can deploy our first CNN model!"
      ]
    }
  ]
}